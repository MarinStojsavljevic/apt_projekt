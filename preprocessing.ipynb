{
 "cells": [
  {
   "cell_type": "markdown",
   "metadata": {},
   "source": [
    "## Pretprocessing"
   ]
  },
  {
   "cell_type": "markdown",
   "metadata": {},
   "source": [
    "#### Ucitavamo dataset i pretprocesiramo ga."
   ]
  },
  {
   "cell_type": "code",
   "execution_count": 1,
   "metadata": {},
   "outputs": [
    {
     "name": "stderr",
     "output_type": "stream",
     "text": [
      "c:\\Users\\marin\\anaconda3\\envs\\tarlab1\\lib\\site-packages\\numpy\\_distributor_init.py:30: UserWarning: loaded more than 1 DLL from .libs:\n",
      "c:\\Users\\marin\\anaconda3\\envs\\tarlab1\\lib\\site-packages\\numpy\\.libs\\libopenblas.EL2C6PLE4ZYW3ECEVIV3OXXGRN2NRFM2.gfortran-win_amd64.dll\n",
      "c:\\Users\\marin\\anaconda3\\envs\\tarlab1\\lib\\site-packages\\numpy\\.libs\\libopenblas.GK7GX5KEQ4F6UYO3P26ULGBQYHGQO7J4.gfortran-win_amd64.dll\n",
      "  warnings.warn(\"loaded more than 1 DLL from .libs:\"\n"
     ]
    }
   ],
   "source": [
    "import pandas as pd\n",
    "import spacy\n",
    "import numpy as np"
   ]
  },
  {
   "cell_type": "code",
   "execution_count": 2,
   "metadata": {},
   "outputs": [],
   "source": [
    "train_set = pd.read_csv(filepath_or_buffer='./Dataset/train.csv', sep=',')\n",
    "# test_set = pd.read_csv(filepath_or_buffer='./Dataset/test.csv', sep=',')\n",
    "# sample_submission_set = pd.read_csv(filepath_or_buffer='./Dataset/sampleSubmission.csv', sep=',')"
   ]
  },
  {
   "cell_type": "code",
   "execution_count": 3,
   "metadata": {},
   "outputs": [
    {
     "name": "stdout",
     "output_type": "stream",
     "text": [
      "Durability and all-day comfort of lightweight, stress-resistant O MATTER® frame material\n",
      "    Integrated surge ports to channel cooling airflow\n",
      "    Optimized peripheral view and side coverage of Polaric Ellipsoid™ lens geometry\n",
      "    Comes standard with Oakley Hydrophobic/Oleophobic anti-smudge lens coating\n",
      "    Comfort and performance of Three-Point Fit that holds lenses in precise optical alignment\n",
      "    Metal icon accents\n",
      "    Optical precision and performance that meets all ANSI Z87.1 standards\n",
      "    Impact resistance that meets all ANSI Z87.1 standards for high-mass and high-velocity impact\n",
      "    UV protection of PLUTONITE® lens that filters out 100% of UVA / UVB / UVC & harmful blue light up to 400 nm\n",
      "    Glare reduction and tuned light transmission of IRIDIUM® lens coating\n",
      "    Multiple interchangeable UNOBTAINIUM® nose pad options for customizable and comfortable secure fit\n",
      "    Protective sports-specific Oakley Soft Vault included with capacity for an extra lens\n",
      "    Polished Black frame/Gray lens\n"
     ]
    }
   ],
   "source": [
    "print(train_set[\"product_description\"][5])"
   ]
  },
  {
   "cell_type": "code",
   "execution_count": 4,
   "metadata": {},
   "outputs": [
    {
     "name": "stdout",
     "output_type": "stream",
     "text": [
      "10158\n",
      "22513\n",
      "22513\n"
     ]
    }
   ],
   "source": [
    "print(len(train_set))"
   ]
  },
  {
   "cell_type": "code",
   "execution_count": 5,
   "metadata": {},
   "outputs": [],
   "source": [
    "nlp = spacy.load(\"en_core_web_sm\")"
   ]
  },
  {
   "cell_type": "code",
   "execution_count": 9,
   "metadata": {},
   "outputs": [],
   "source": [
    "#zamjena svih praznina s jednim praznim znakom\n",
    "#gledaj samo tokene koji nisu stopwords i koji nisu punktacijski znakovi\n",
    "#napisi sve tokene malim slovima \n",
    "\n",
    "#mozda omogucit da se svi numericki znakovi zamjenjuju slovima?\n",
    "\n",
    "def preprocess_text(df, include_digit = 0):\n",
    "    #include_digits = 0 --> don't remove any tokens with digits\n",
    "    #include_digits = 1 --> remove tokens which all characters are digits\n",
    "    #include_digits = 2 --> remove all tokens which contain digits\n",
    "\n",
    "    product_all_preprocessed = []\n",
    "    query_all_preprocessed = []\n",
    "    \n",
    "    for idx, row in df.iterrows():\n",
    "        product_preprocessed = []\n",
    "        query_preprocessed = []\n",
    "        product = row['product']\n",
    "        query = row['query']\n",
    "\n",
    "        product = ' '.join(product.split())\n",
    "        query = ' '.join(query.split())\n",
    "            \n",
    "        doc_product = nlp(product)\n",
    "        doc_query = nlp(query)\n",
    "\n",
    "        for sent in doc_product.sents: \n",
    "            for token in sent:\n",
    "                if not token.is_stop and not token.is_punct:\n",
    "                    if (include_digit == 0) or (include_digit == 1 and not all(map(str.isdigit, str(token)))) or (include_digit == 2 and not any(map(str.isdigit, str(token)))):\n",
    "                        product_preprocessed.append(str.lower(token.lemma_))\n",
    "\n",
    "        for sent in doc_query.sents: \n",
    "            for token in sent:\n",
    "                if not token.is_stop and not token.is_punct:\n",
    "                    query_preprocessed.append(str.lower(token.lemma_))\n",
    "\n",
    "                    \n",
    "\n",
    "        product_all_preprocessed.append(\" \".join(map(str, product_preprocessed)))\n",
    "        query_all_preprocessed.append(\" \".join(map(str, query_preprocessed)))\n",
    "        \n",
    "    df['query'] = query_all_preprocessed\n",
    "    df['product'] = product_all_preprocessed\n",
    "    \n",
    "    return df"
   ]
  },
  {
   "cell_type": "code",
   "execution_count": null,
   "metadata": {},
   "outputs": [],
   "source": [
    "print(nlp.Defaults.stop_words)"
   ]
  },
  {
   "cell_type": "code",
   "execution_count": 8,
   "metadata": {},
   "outputs": [],
   "source": [
    "#spajamo naslov i opis produkta u 1 stupac kako bi ih mogli zajedno pretprocesirat\n",
    "def get_df_for_preprocessing():\n",
    "    df = pd.DataFrame(train_set)\n",
    "    df = df.replace(np.nan, '', regex=True)\n",
    "    df['product'] = df[\"product_title\"] + \" \" + df[\"product_description\"]\n",
    "\n",
    "    return df"
   ]
  },
  {
   "cell_type": "code",
   "execution_count": 10,
   "metadata": {},
   "outputs": [],
   "source": [
    "df_preprocessed = get_df_for_preprocessing()\n",
    "\n",
    "df_preprocessed = preprocess_text(df_preprocessed, 0)"
   ]
  },
  {
   "cell_type": "code",
   "execution_count": 11,
   "metadata": {},
   "outputs": [
    {
     "name": "stdout",
     "output_type": "stream",
     "text": [
      "oakley sunglasses radar path polished black gray sunglasses durability day comfort lightweight stress resistant o matter ® frame material integrated surge port channel cool airflow optimize peripheral view coverage polaric ellipsoid ™ lens geometry come standard oakley hydrophobic oleophobic anti smudge lens coat comfort performance point fit hold lense precise optical alignment metal icon accent optical precision performance meet ansi z87.1 standard impact resistance meet ansi z87.1 standard high mass high velocity impact uv protection plutonite ® lens filter 100 uva uvb uvc harmful blue light 400 nm glare reduction tune light transmission iridium ® lens coat multiple interchangeable unobtainium ® nose pad option customizable comfortable secure fit protective sport specific oakley soft vault include capacity extra lens polished black frame gray lens\n"
     ]
    }
   ],
   "source": [
    "print(df_preprocessed[\"product\"][5])"
   ]
  },
  {
   "cell_type": "code",
   "execution_count": 13,
   "metadata": {},
   "outputs": [],
   "source": [
    "df_preprocessed_train_set = get_df_for_preprocessing()\n",
    "df_preprocessed_without_numbers_partialy = preprocess_text(df_preprocessed_train_set, 1)"
   ]
  },
  {
   "cell_type": "code",
   "execution_count": 14,
   "metadata": {},
   "outputs": [
    {
     "name": "stdout",
     "output_type": "stream",
     "text": [
      "oakley sunglasses radar path polished black gray sunglasses durability day comfort lightweight stress resistant o matter ® frame material integrated surge port channel cool airflow optimize peripheral view coverage polaric ellipsoid ™ lens geometry come standard oakley hydrophobic oleophobic anti smudge lens coat comfort performance point fit hold lense precise optical alignment metal icon accent optical precision performance meet ansi z87.1 standard impact resistance meet ansi z87.1 standard high mass high velocity impact uv protection plutonite ® lens filter uva uvb uvc harmful blue light nm glare reduction tune light transmission iridium ® lens coat multiple interchangeable unobtainium ® nose pad option customizable comfortable secure fit protective sport specific oakley soft vault include capacity extra lens polished black frame gray lens\n"
     ]
    }
   ],
   "source": [
    "print(df_preprocessed_without_numbers_partialy[\"product\"][5])"
   ]
  },
  {
   "cell_type": "code",
   "execution_count": 18,
   "metadata": {},
   "outputs": [],
   "source": [
    "df_preprocessed_train_set = get_df_for_preprocessing()\n",
    "df_preprocessed_without_all_numbers = preprocess_text(df_preprocessed_train_set, 2)"
   ]
  },
  {
   "cell_type": "code",
   "execution_count": 24,
   "metadata": {},
   "outputs": [
    {
     "name": "stdout",
     "output_type": "stream",
     "text": [
      "oakley sunglasses radar path polished black gray sunglasses durability day comfort lightweight stress resistant o matter ® frame material integrated surge port channel cool airflow optimize peripheral view coverage polaric ellipsoid ™ lens geometry come standard oakley hydrophobic oleophobic anti smudge lens coat comfort performance point fit hold lense precise optical alignment metal icon accent optical precision performance meet ansi standard impact resistance meet ansi standard high mass high velocity impact uv protection plutonite ® lens filter uva uvb uvc harmful blue light nm glare reduction tune light transmission iridium ® lens coat multiple interchangeable unobtainium ® nose pad option customizable comfortable secure fit protective sport specific oakley soft vault include capacity extra lens polished black frame gray lens\n"
     ]
    }
   ],
   "source": [
    "print(df_preprocessed_without_all_numbers[\"product\"][5])"
   ]
  },
  {
   "cell_type": "code",
   "execution_count": 23,
   "metadata": {},
   "outputs": [
    {
     "name": "stdout",
     "output_type": "stream",
     "text": [
      "lead christmas light\n"
     ]
    }
   ],
   "source": [
    "print(df_preprocessed_without_numbers_partialy[\"query\"][1])"
   ]
  },
  {
   "cell_type": "code",
   "execution_count": 25,
   "metadata": {},
   "outputs": [],
   "source": [
    "del df_preprocessed[\"product_title\"]\n",
    "del df_preprocessed[\"product_description\"]"
   ]
  },
  {
   "cell_type": "code",
   "execution_count": 26,
   "metadata": {},
   "outputs": [],
   "source": [
    "df_preprocessed.to_csv(r'./Dataset/dataframes/df_preprocessed_with_numbers.csv', encoding='utf-8', header='true')\n",
    "df_preprocessed_without_all_numbers.to_csv(r'./Dataset/dataframes/df_preprocessed_without_all_tokens_with_numbers.csv', encoding='utf-8', header='true')\n",
    "df_preprocessed_without_numbers_partialy.to_csv(r'./Dataset/dataframes/df_preprocessed_without_numbers_partially.csv', encoding='utf-8', header='true')"
   ]
  }
 ],
 "metadata": {
  "interpreter": {
   "hash": "f2bf11d8767c50a74e7ca8cca20ade7bf72bdfe435dc3a1ec7a8fe848b18ee20"
  },
  "kernelspec": {
   "display_name": "Python 3",
   "language": "python",
   "name": "python3"
  },
  "language_info": {
   "codemirror_mode": {
    "name": "ipython",
    "version": 3
   },
   "file_extension": ".py",
   "mimetype": "text/x-python",
   "name": "python",
   "nbconvert_exporter": "python",
   "pygments_lexer": "ipython3",
   "version": "3.9.11"
  }
 },
 "nbformat": 4,
 "nbformat_minor": 2
}
