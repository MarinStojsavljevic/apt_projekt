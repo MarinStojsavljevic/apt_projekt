{
 "cells": [
  {
   "cell_type": "markdown",
   "metadata": {},
   "source": [
    "## Pretprocessing"
   ]
  },
  {
   "cell_type": "markdown",
   "metadata": {},
   "source": [
    "#### Ucitavamo dataset i pretprocesiramo ga."
   ]
  },
  {
   "cell_type": "code",
   "execution_count": 1,
   "metadata": {},
   "outputs": [],
   "source": [
    "import pandas as pd\n",
    "import spacy\n",
    "import numpy as np"
   ]
  },
  {
   "cell_type": "code",
   "execution_count": 29,
   "metadata": {},
   "outputs": [],
   "source": [
    "train_set = pd.read_csv(filepath_or_buffer='./Dataset/train.csv', sep=',')\n",
    "test_set = pd.read_csv(filepath_or_buffer='./Dataset/test.csv', sep=',')\n",
    "sample_submission_set = pd.read_csv(filepath_or_buffer='./Dataset/sampleSubmission.csv', sep=',')"
   ]
  },
  {
   "cell_type": "code",
   "execution_count": 30,
   "metadata": {},
   "outputs": [
    {
     "name": "stdout",
     "output_type": "stream",
     "text": [
      "   id                      query  \\\n",
      "0   1  bridal shower decorations   \n",
      "1   2       led christmas lights   \n",
      "2   4                  projector   \n",
      "3   5                  wine rack   \n",
      "\n",
      "                                       product_title  \\\n",
      "0        Accent Pillow with Heart Design - Red/Black   \n",
      "1  Set of 10 Battery Operated Multi LED Train Chr...   \n",
      "2         ViewSonic Pro8200 DLP Multimedia Projector   \n",
      "3  Concept Housewares WR-44526 Solid-Wood Ceiling...   \n",
      "\n",
      "                                 product_description  median_relevance  \\\n",
      "0  Red satin accent pillow embroidered with a hea...                 1   \n",
      "1  Set of 10 Battery Operated Train Christmas Lig...                 4   \n",
      "2                                                NaN                 4   \n",
      "3  Like a silent and sturdy tree, the Southern En...                 4   \n",
      "\n",
      "   relevance_variance  \n",
      "0               0.000  \n",
      "1               0.000  \n",
      "2               0.471  \n",
      "3               0.000  \n"
     ]
    }
   ],
   "source": [
    "print(train_set.head(4))"
   ]
  },
  {
   "cell_type": "code",
   "execution_count": 31,
   "metadata": {},
   "outputs": [
    {
     "name": "stdout",
     "output_type": "stream",
     "text": [
      "    id                           query  \\\n",
      "0    3                electric griddle   \n",
      "1    6           phillips coffee maker   \n",
      "2    9             san francisco 49ers   \n",
      "3   11                  aveeno shampoo   \n",
      "4   12  flea and tick control for dogs   \n",
      "5   14                     table clock   \n",
      "6   15                  infinity scarf   \n",
      "7   16       workout clothes for women   \n",
      "8   18                  lego star wars   \n",
      "9   19                kitchenaid mixer   \n",
      "10  21                  notebook paper   \n",
      "11  22              headphones earbuds   \n",
      "12  23               16 gb memory card   \n",
      "13  24         playstation vita system   \n",
      "14  25                  cleaning robot   \n",
      "15  26                      toy trucks   \n",
      "16  27              converse high tops   \n",
      "17  29            baseball photo frame   \n",
      "18  30                       wine rack   \n",
      "19  33              pittsburgh pirates   \n",
      "\n",
      "                                        product_title  \\\n",
      "0                     Star-Max 48 in Electric Griddle   \n",
      "1   Philips SENSEO HD7810 WHITE Single Serve Pod C...   \n",
      "2                      2013 San Francisco 49ers Clock   \n",
      "3                 AVEENO       10.5FLOZ NRSH SHINE SH   \n",
      "4   Merial Frontline Plus Flea and Tick Control fo...   \n",
      "5                             Classy Wood Table Clock   \n",
      "6             Women's Infinity Scarf - Tribal Paisley   \n",
      "7          Women's Skechers Flex Tech Tee Shirt White   \n",
      "8   LEGO Star Wars Anakin's Jedi Interceptor 9494 ...   \n",
      "9     Hamilton Beach Power Deluxe 4-Quart Stand Mixer   \n",
      "10  Bamboo Spined Poo Paper Light Green Book (Sri ...   \n",
      "11      Motorola Flexible EarBud Receiver - headphone   \n",
      "12              Transcend 16GB SDHC Flash Memory Card   \n",
      "13            Spongebob Hero Pants (PlayStation Vita)   \n",
      "14  Robo Maxx Robot Vacuum with Stair Sensors and ...   \n",
      "15                   Kalee 12v Red Ride-On Fire Truck   \n",
      "16  Girl's Converse Chuck Taylor All Star 'CT High...   \n",
      "17      New York Yankees Babe Ruth 11x14 Deluxe Frame   \n",
      "18  Wall Wine Rack Wood Wooden Storage Cabinet Bar...   \n",
      "19                   Pittsburgh Pirates Rope Necklace   \n",
      "\n",
      "                                  product_description  \n",
      "0                                                 NaN  \n",
      "1                                                 NaN  \n",
      "2   A 2013 San Francisco 49ers clock is the ultima...  \n",
      "3   Water, Ammonium Lauryl Sulfate, Dimethicone, S...  \n",
      "4                                                 NaN  \n",
      "5   Watch out for this antique wood table clock wh...  \n",
      "6   The style possibilities are almost endless wit...  \n",
      "7   Flex your style in the SKECHERS Apparel Flex T...  \n",
      "8   <ul>\\r\\n\\t\\t<li>\\r\\n\\t\\t\\tEnglish \\r\\n\\t\\t\\t\\t...  \n",
      "9   Get the mixing action you've always wanted wit...  \n",
      "10  Bamboo Spine Books are Eco-friendly, 100-perce...  \n",
      "11                                                NaN  \n",
      "12  Fully compatible with SD 2.0 Standards\\r\\n    ...  \n",
      "13  details\\r\\nBattery no battery used\\r\\nGenre: A...  \n",
      "14  This robot vacuum cleaner has a high power lon...  \n",
      "15  The Kalee 12 Volt Ride-on Fire Truck looks aut...  \n",
      "16  Your casual cutie will love the plush fit of a...  \n",
      "17  Baseball fans can pay respect to the late Babe...  \n",
      "18  eBay item number:141593533786\\r\\n\\r\\n\\r\\n\\tSel...  \n",
      "19  The stylish Game Wear Pittsburgh Pirates Froze...  \n"
     ]
    }
   ],
   "source": [
    "print(test_set.head(20))"
   ]
  },
  {
   "cell_type": "code",
   "execution_count": 32,
   "metadata": {},
   "outputs": [
    {
     "name": "stdout",
     "output_type": "stream",
     "text": [
      "    id  prediction\n",
      "0    3           3\n",
      "1    6           3\n",
      "2    9           3\n",
      "3   11           3\n",
      "4   12           3\n",
      "5   14           3\n",
      "6   15           3\n",
      "7   16           3\n",
      "8   18           3\n",
      "9   19           3\n",
      "10  21           3\n",
      "11  22           3\n",
      "12  23           3\n",
      "13  24           3\n",
      "14  25           3\n",
      "15  26           3\n",
      "16  27           3\n",
      "17  29           3\n",
      "18  30           3\n",
      "19  33           3\n"
     ]
    }
   ],
   "source": [
    "print(sample_submission_set.head(20))"
   ]
  },
  {
   "cell_type": "code",
   "execution_count": 33,
   "metadata": {},
   "outputs": [
    {
     "name": "stdout",
     "output_type": "stream",
     "text": [
      "10158\n",
      "22513\n",
      "22513\n"
     ]
    }
   ],
   "source": [
    "print(len(train_set))\n",
    "print(len(test_set))\n",
    "print(len(sample_submission_set))"
   ]
  },
  {
   "cell_type": "code",
   "execution_count": 34,
   "metadata": {},
   "outputs": [],
   "source": [
    "nlp = spacy.load(\"en_core_web_sm\")"
   ]
  },
  {
   "cell_type": "code",
   "execution_count": 35,
   "metadata": {},
   "outputs": [
    {
     "name": "stdout",
     "output_type": "stream",
     "text": [
      "{'ca', 'anyway', 'would', 'among', 'well', 'where', 'themselves', 'twelve', 'more', 'what', 'serious', 'front', '8', 'thereby', 'become', 'us', 'everywhere', 'noone', 'as', 'four', '‘s', 'last', 'therein', 'thereupon', 'am', 'will', 'they', 'already', 'nine', 'from', 'very', 'them', 'may', 'often', 'however', 'no', 'on', 'you', 'empty', 'if', 'side', 'besides', 'eight', 'except', 'of', 'seems', 'around', 'we', 'take', 'down', 'anywhere', 'indeed', 'i', 'throughout', 'nothing', 'thereafter', 'others', 'becomes', 'since', 'seeming', 'sometime', 'bottom', 'in', 'n’t', 'go', 'nor', 'that', 'almost', 'sixty', 'only', 'up', 'herein', 'thence', 'three', 'towards', 'meanwhile', 'used', 'your', 'an', 'give', 'out', 'thus', 'do', 'any', 'whereupon', 'full', 'those', 'our', 'the', 'whoever', '’ve', 'wherein', 'a', '‘d', 'made', 'forty', 'she', '‘re', 'were', 'few', 'becoming', 'due', 'somewhere', 'perhaps', 'yet', 'elsewhere', 'he', 'might', 'please', 'who', 'third', 'each', 'top', 'over', 'ten', 'make', 'whenever', 'or', 'fifteen', 'latterly', 'unless', 'doing', 'always', 'anyhow', 'here', 'formerly', 'every', 'whence', 'myself', 'anything', 'whose', 'just', 'whereas', 'say', 'above', 'to', 'five', 'ourselves', 'first', '7', 'by', '’s', 'was', 'wherever', 'enough', 'below', 'ours', 'other', '2', 'such', 'someone', '’ll', 'not', 'see', \"'s\", 'part', '0', 'next', '1', 'my', 'seem', 'name', '’d', 'still', '9', 'alone', 'everyone', 'when', 'against', 'yourself', 'under', 'for', 'mostly', 'hereupon', 'own', 'eleven', 'nevertheless', 'somehow', 'herself', 'about', 'several', 'beyond', 'this', 'via', 'nobody', 'between', 'even', '4', 'two', 'six', 'therefore', 'seemed', 'his', 'twenty', 'another', 'back', 'both', 'but', \"'ve\", 'moreover', 'have', 'whole', 'though', 'thru', 'there', 'has', 'once', '’m', '‘ll', 'keep', 'hundred', 'further', 'various', 'amongst', 'hence', 'neither', 'get', 'can', 'using', 'amount', 'some', 'upon', 'him', 'beside', 'everything', \"'m\", \"'ll\", 'should', 'with', 'being', \"'d\", 'quite', 'namely', 'behind', 'most', 'per', 'their', 'these', 'cannot', 'until', 'show', 'nowhere', '‘m', 'yourselves', 'fifty', 'rather', 'less', 'anyone', 'hereby', 'than', 'otherwise', 'be', 'did', 'me', 'sometimes', 'also', 'much', 'afterwards', 'her', 'its', '3', 'ever', 'whatever', \"'re\", 'whereafter', 'all', 'before', 'it', 'together', 'least', \"n't\", '5', 'because', '’re', 'whereby', 'really', 'something', 'at', 'itself', 'n‘t', 'now', 'after', 'which', 'does', 'again', 'whither', '‘ve', 'none', 'is', 'within', 'toward', 'how', 'off', 'too', 're', 'himself', 'beforehand', 'many', 'regarding', '6', 'must', 'during', 'had', 'while', 'onto', 'why', 'latter', 'into', 'hereafter', 'one', 'are', 'although', 'either', 'whether', 'without', 'along', 'put', 'and', 'mine', 'same', 'whom', 'through', 'yours', 'across', 'done', 'could', 'call', 'former', 'been', 'else', 'so', 'became', 'then', 'hers', 'never', 'move'}\n"
     ]
    }
   ],
   "source": [
    "print(nlp.Defaults.stop_words)"
   ]
  },
  {
   "cell_type": "code",
   "execution_count": 36,
   "metadata": {},
   "outputs": [],
   "source": [
    "for i in range(0, 10):\n",
    "    nlp.Defaults.stop_words.add(str(i))"
   ]
  },
  {
   "cell_type": "code",
   "execution_count": 37,
   "metadata": {},
   "outputs": [
    {
     "name": "stdout",
     "output_type": "stream",
     "text": [
      "{'ca', 'anyway', 'would', 'among', 'well', 'where', 'themselves', 'twelve', 'more', 'what', 'serious', 'front', '8', 'thereby', 'become', 'us', 'everywhere', 'noone', 'as', 'four', '‘s', 'last', 'therein', 'thereupon', 'am', 'will', 'they', 'already', 'nine', 'from', 'very', 'them', 'may', 'often', 'however', 'no', 'on', 'you', 'empty', 'if', 'side', 'besides', 'eight', 'except', 'of', 'seems', 'around', 'we', 'take', 'down', 'anywhere', 'indeed', 'i', 'throughout', 'nothing', 'thereafter', 'others', 'becomes', 'since', 'seeming', 'sometime', 'bottom', 'in', 'n’t', 'go', 'nor', 'that', 'almost', 'sixty', 'only', 'up', 'herein', 'thence', 'three', 'towards', 'meanwhile', 'used', 'your', 'an', 'give', 'out', 'thus', 'do', 'any', 'whereupon', 'full', 'those', 'our', 'the', 'whoever', '’ve', 'wherein', 'a', '‘d', 'made', 'forty', 'she', '‘re', 'were', 'few', 'becoming', 'due', 'somewhere', 'perhaps', 'yet', 'elsewhere', 'he', 'might', 'please', 'who', 'third', 'each', 'top', 'over', 'ten', 'make', 'whenever', 'or', 'fifteen', 'latterly', 'unless', 'doing', 'always', 'anyhow', 'here', 'formerly', 'every', 'whence', 'myself', 'anything', 'whose', 'just', 'whereas', 'say', 'above', 'to', 'five', 'ourselves', 'first', '7', 'by', '’s', 'was', 'wherever', 'enough', 'below', 'ours', 'other', '2', 'such', 'someone', '’ll', 'not', 'see', \"'s\", 'part', '0', 'next', '1', 'my', 'seem', 'name', '’d', 'still', '9', 'alone', 'everyone', 'when', 'against', 'yourself', 'under', 'for', 'mostly', 'hereupon', 'own', 'eleven', 'nevertheless', 'somehow', 'herself', 'about', 'several', 'beyond', 'this', 'via', 'nobody', 'between', 'even', '4', 'two', 'six', 'therefore', 'seemed', 'his', 'twenty', 'another', 'back', 'both', 'but', \"'ve\", 'moreover', 'have', 'whole', 'though', 'thru', 'there', 'has', 'once', '’m', '‘ll', 'keep', 'hundred', 'further', 'various', 'amongst', 'hence', 'neither', 'get', 'can', 'using', 'amount', 'some', 'upon', 'him', 'beside', 'everything', \"'m\", \"'ll\", 'should', 'with', 'being', \"'d\", 'quite', 'namely', 'behind', 'most', 'per', 'their', 'these', 'cannot', 'until', 'show', 'nowhere', '‘m', 'yourselves', 'fifty', 'rather', 'less', 'anyone', 'hereby', 'than', 'otherwise', 'be', 'did', 'me', 'sometimes', 'also', 'much', 'afterwards', 'her', 'its', '3', 'ever', 'whatever', \"'re\", 'whereafter', 'all', 'before', 'it', 'together', 'least', \"n't\", '5', 'because', '’re', 'whereby', 'really', 'something', 'at', 'itself', 'n‘t', 'now', 'after', 'which', 'does', 'again', 'whither', '‘ve', 'none', 'is', 'within', 'toward', 'how', 'off', 'too', 're', 'himself', 'beforehand', 'many', 'regarding', '6', 'must', 'during', 'had', 'while', 'onto', 'why', 'latter', 'into', 'hereafter', 'one', 'are', 'although', 'either', 'whether', 'without', 'along', 'put', 'and', 'mine', 'same', 'whom', 'through', 'yours', 'across', 'done', 'could', 'call', 'former', 'been', 'else', 'so', 'became', 'then', 'hers', 'never', 'move'}\n"
     ]
    }
   ],
   "source": [
    "print(nlp.Defaults.stop_words)"
   ]
  },
  {
   "cell_type": "code",
   "execution_count": 38,
   "metadata": {},
   "outputs": [],
   "source": [
    "#zamjena svih praznina s jednim praznim znakom\n",
    "#gledaj samo tokene koji nisu stopwords i koji nisu punktacijski znakovi\n",
    "#napisi sve tokene malim slovima \n",
    "\n",
    "#mozda omogucit da se svi numericki znakovi zamjenjuju slovima?\n",
    "\n",
    "def preprocess_text(texts):\n",
    "    all_preprocessed = []\n",
    "    \n",
    "    for tup in texts.items():\n",
    "        preprocessed_text = []\n",
    "        text = tup[1]\n",
    "\n",
    "        if isinstance(text, float):\n",
    "            preprocessed_text.append([\"\"])\n",
    "        \n",
    "        else:\n",
    "            text = ' '.join(text.split())\n",
    "            \n",
    "            doc = nlp(text)\n",
    "\n",
    "            for sent in doc.sents: \n",
    "                for token in sent:\n",
    "                    if not token.is_stop and not token.is_punct and not any(map(str.isdigit, str(token))):\n",
    "                        preprocessed_text.append(str.lower(token.lemma_))\n",
    "\n",
    "        all_preprocessed.append(\" \".join(map(str, preprocessed_text)))\n",
    "        \n",
    "    return all_preprocessed\n",
    "        \n"
   ]
  },
  {
   "cell_type": "code",
   "execution_count": 39,
   "metadata": {},
   "outputs": [],
   "source": [
    "#spajamo naslov i opis produkta u 1 stupac kako bi ih mogli zajedno pretprocesirat\n",
    "\n",
    "df_preprocessed = pd.DataFrame(train_set)\n",
    "df_preprocessed = df_preprocessed.replace(np.nan, '', regex=True)\n",
    "df_preprocessed['product'] = df_preprocessed[\"product_title\"] + \" \" + df_preprocessed[\"product_description\"]"
   ]
  },
  {
   "cell_type": "code",
   "execution_count": 40,
   "metadata": {},
   "outputs": [],
   "source": [
    "#preprocesiraj posebno query i posebno product\n",
    "\n",
    "df_preprocessed[\"product\"] = preprocess_text(df_preprocessed[\"product\"])\n",
    "df_preprocessed[\"query\"] = preprocess_text(df_preprocessed[\"query\"])"
   ]
  },
  {
   "cell_type": "code",
   "execution_count": 41,
   "metadata": {},
   "outputs": [
    {
     "name": "stdout",
     "output_type": "stream",
     "text": [
      "set battery operated multi led train christmas lights clear wire set battery operate train christmas lights item feature color multi color bulb match train light cover clear wire multi color consist red green blue yellow bulb number bulb string bulb size micro led space bulb inch lighted length foot total length foot inch lead cord additional product feature led light use energy cool touch bulb burn rest stay lit light equip lamp lock feature make replaceable interchangeable keep fall require aa battery include convenient timer switch locate battery pack timer function battery pack allow hour hour connect multiple set ul list indoor use train dimension x x material(s plastic wire acrylic\n"
     ]
    }
   ],
   "source": [
    "print(df_preprocessed[\"product\"][1])"
   ]
  },
  {
   "cell_type": "code",
   "execution_count": 43,
   "metadata": {},
   "outputs": [
    {
     "name": "stdout",
     "output_type": "stream",
     "text": [
      "lead christmas light\n"
     ]
    }
   ],
   "source": [
    "print(df_preprocessed[\"query\"][1])"
   ]
  },
  {
   "cell_type": "code",
   "execution_count": 44,
   "metadata": {},
   "outputs": [],
   "source": [
    "del df_preprocessed[\"product_title\"]\n",
    "del df_preprocessed[\"product_description\"]"
   ]
  },
  {
   "cell_type": "code",
   "execution_count": 45,
   "metadata": {},
   "outputs": [],
   "source": [
    "df_preprocessed.to_csv(r'./Dataset/dataframes/df_preprocessed_without_numbers.csv', encoding='utf-8', header='true')"
   ]
  },
  {
   "cell_type": "code",
   "execution_count": null,
   "metadata": {},
   "outputs": [],
   "source": []
  }
 ],
 "metadata": {
  "interpreter": {
   "hash": "f2bf11d8767c50a74e7ca8cca20ade7bf72bdfe435dc3a1ec7a8fe848b18ee20"
  },
  "kernelspec": {
   "display_name": "Python 3",
   "language": "python",
   "name": "python3"
  },
  "language_info": {
   "codemirror_mode": {
    "name": "ipython",
    "version": 3
   },
   "file_extension": ".py",
   "mimetype": "text/x-python",
   "name": "python",
   "nbconvert_exporter": "python",
   "pygments_lexer": "ipython3",
   "version": "3.8.8"
  }
 },
 "nbformat": 4,
 "nbformat_minor": 2
}
