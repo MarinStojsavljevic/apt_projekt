{
 "cells": [
  {
   "cell_type": "code",
   "execution_count": 1,
   "id": "716ec8b9",
   "metadata": {},
   "outputs": [],
   "source": [
    "import json\n",
    "import numpy as np"
   ]
  },
  {
   "cell_type": "code",
   "execution_count": 73,
   "id": "a911e899",
   "metadata": {},
   "outputs": [],
   "source": [
    "dataJSON  = []\n",
    "with open(\"embedding.json\", 'r') as f:\n",
    "  dataJSON=json.load(f)"
   ]
  },
  {
   "cell_type": "code",
   "execution_count": 74,
   "id": "8ccf1080",
   "metadata": {},
   "outputs": [],
   "source": [
    "query = np.array(dataJSON[0])\n",
    "product = np.array(dataJSON[1])\n",
    "label = np.array(dataJSON[2])"
   ]
  },
  {
   "cell_type": "code",
   "execution_count": 75,
   "id": "bcc30795",
   "metadata": {},
   "outputs": [
    {
     "name": "stdout",
     "output_type": "stream",
     "text": [
      "(10112, 300)\n",
      "(10112, 300)\n",
      "(10112,)\n"
     ]
    }
   ],
   "source": [
    "print(query.shape)\n",
    "print(product.shape)\n",
    "print(label.shape)"
   ]
  },
  {
   "cell_type": "markdown",
   "id": "0644d740",
   "metadata": {},
   "source": [
    "## SVM"
   ]
  },
  {
   "cell_type": "markdown",
   "id": "fee5dd87",
   "metadata": {},
   "source": [
    "### SVM NAD KONKATENIRANIM VEKTORIMA UPITA I PROIZVODA"
   ]
  },
  {
   "cell_type": "code",
   "execution_count": 6,
   "id": "288d93b5",
   "metadata": {},
   "outputs": [
    {
     "name": "stdout",
     "output_type": "stream",
     "text": [
      "(10112, 600)\n"
     ]
    }
   ],
   "source": [
    "train = np.concatenate((query, product), axis = 1)\n",
    "print(train.shape)"
   ]
  },
  {
   "cell_type": "code",
   "execution_count": 7,
   "id": "fb04e8a0",
   "metadata": {},
   "outputs": [],
   "source": [
    "from sklearn.svm import SVC\n",
    "from sklearn.model_selection import train_test_split\n",
    "from sklearn.metrics import confusion_matrix"
   ]
  },
  {
   "cell_type": "code",
   "execution_count": 8,
   "id": "cb842549",
   "metadata": {},
   "outputs": [],
   "source": [
    "X_train, X_test, y_train, y_test = train_test_split(train, label, test_size=0.33, random_state=42)\n",
    "model = SVC(kernel = 'rbf', gamma = 0.4).fit(X_train, y_train)"
   ]
  },
  {
   "cell_type": "code",
   "execution_count": 9,
   "id": "5afe534d",
   "metadata": {},
   "outputs": [],
   "source": [
    "prediction = model.predict(X_test)"
   ]
  },
  {
   "cell_type": "code",
   "execution_count": 10,
   "id": "790a1aa2",
   "metadata": {},
   "outputs": [],
   "source": [
    "conf = confusion_matrix(y_test, prediction)"
   ]
  },
  {
   "cell_type": "code",
   "execution_count": 11,
   "id": "39698e5a",
   "metadata": {},
   "outputs": [
    {
     "name": "stdout",
     "output_type": "stream",
     "text": [
      "0.6239136949355709\n"
     ]
    }
   ],
   "source": [
    "print(np.sum(np.diag(conf))/len(prediction))"
   ]
  },
  {
   "cell_type": "markdown",
   "id": "3ad1af06",
   "metadata": {},
   "source": [
    "### GRID SEARCH PARAMETRA GAMMA"
   ]
  },
  {
   "cell_type": "code",
   "execution_count": 14,
   "id": "e958d388",
   "metadata": {},
   "outputs": [
    {
     "name": "stdout",
     "output_type": "stream",
     "text": [
      "0.6320047947258016\n",
      "0.6320047947258016\n",
      "0.6299071021875936\n",
      "0.6239136949355709\n",
      "0.6236140245729698\n",
      "0.6215163320347618\n",
      "0.6209169913095595\n",
      "0.6212166616721606\n",
      "0.622115672759964\n"
     ]
    }
   ],
   "source": [
    "gamma = [0.1*x for x in range(1, 10)]\n",
    "for g in gamma:\n",
    "    model = SVC(kernel = 'rbf', gamma = g).fit(X_train, y_train)\n",
    "    prediction = model.predict(X_test)\n",
    "    conf = confusion_matrix(y_test, prediction)\n",
    "    print(np.sum(np.diag(conf))/len(prediction))"
   ]
  },
  {
   "cell_type": "markdown",
   "id": "ad70b8c8",
   "metadata": {},
   "source": [
    "### LINEARNA JEZGRA "
   ]
  },
  {
   "cell_type": "code",
   "execution_count": 15,
   "id": "f963623b",
   "metadata": {},
   "outputs": [
    {
     "name": "stdout",
     "output_type": "stream",
     "text": [
      "0.6296074318249925\n"
     ]
    }
   ],
   "source": [
    "model = SVC(kernel = 'linear').fit(X_train, y_train)\n",
    "prediction = model.predict(X_test)\n",
    "conf = confusion_matrix(y_test, prediction)\n",
    "print(np.sum(np.diag(conf))/len(prediction))"
   ]
  },
  {
   "cell_type": "markdown",
   "id": "850e7cbf",
   "metadata": {},
   "source": [
    "### RAZLIČITI NAČINI OBJEDINJAVANJA EMBEDDINGA"
   ]
  },
  {
   "cell_type": "code",
   "execution_count": 76,
   "id": "3e6b3d9a",
   "metadata": {},
   "outputs": [
    {
     "name": "stdout",
     "output_type": "stream",
     "text": [
      "0.6324983520105472\n",
      "0.6275543836519446\n",
      "0.6249176005273567\n",
      "0.6285431773236652\n"
     ]
    }
   ],
   "source": [
    "train = [np.concatenate((query, product), axis = 1), query - product, query * product, query + product]\n",
    "for tr in train:\n",
    "    X_train, X_test, y_train, y_test = train_test_split(tr, label, test_size=0.3, random_state=42)\n",
    "    model = SVC(kernel = 'rbf', gamma = 0.2).fit(X_train, y_train)\n",
    "    prediction = model.predict(X_test)\n",
    "    conf = confusion_matrix(y_test, prediction)\n",
    "    print(np.sum(np.diag(conf))/len(prediction))"
   ]
  },
  {
   "cell_type": "markdown",
   "id": "8959c24a",
   "metadata": {},
   "source": [
    "### FASTTEXT EMBEDDING"
   ]
  },
  {
   "cell_type": "code",
   "execution_count": 10,
   "id": "66caba88",
   "metadata": {},
   "outputs": [],
   "source": [
    "import pandas as pd"
   ]
  },
  {
   "cell_type": "code",
   "execution_count": 11,
   "id": "7ecddc39",
   "metadata": {},
   "outputs": [],
   "source": [
    "data  = []\n",
    "with open(\"df_pp_fasttext.json\", 'r') as f:\n",
    "    data=json.load(f)\n",
    "    df_fasttext = pd.DataFrame(data)"
   ]
  },
  {
   "cell_type": "code",
   "execution_count": 12,
   "id": "74780044",
   "metadata": {},
   "outputs": [
    {
     "name": "stdout",
     "output_type": "stream",
     "text": [
      "   id                                       query_vector  \\\n",
      "0   1  [0.012943572, 0.015888123, -0.025562584, 0.090...   \n",
      "\n",
      "                                      product_vector  median_relevance  \\\n",
      "0  [-0.0042361375, 0.008490032, 0.07483778, 0.015...                 1   \n",
      "\n",
      "   relevance_variance  \n",
      "0                 0.0  \n"
     ]
    }
   ],
   "source": [
    "print(df_fasttext.head(1))"
   ]
  },
  {
   "cell_type": "code",
   "execution_count": 13,
   "id": "75a7663e",
   "metadata": {},
   "outputs": [],
   "source": [
    "query = np.array([np.array(list(np.float_(x))) for x in df_fasttext['query_vector']])\n",
    "product = np.array([np.array(list(np.float_(x))) for x in df_fasttext['product_vector']])\n",
    "label = np.array(df_fasttext['median_relevance'])"
   ]
  },
  {
   "cell_type": "code",
   "execution_count": 14,
   "id": "4e4feb22",
   "metadata": {},
   "outputs": [
    {
     "name": "stdout",
     "output_type": "stream",
     "text": [
      "(10158, 300)\n",
      "(10158, 300)\n",
      "(10158,)\n"
     ]
    }
   ],
   "source": [
    "print(query.shape)\n",
    "print(product.shape)\n",
    "print(label.shape)"
   ]
  },
  {
   "cell_type": "code",
   "execution_count": 15,
   "id": "4f2f142c",
   "metadata": {},
   "outputs": [],
   "source": [
    "train = [np.concatenate((query, product), axis = 1), query - product, query + product, query * product]"
   ]
  },
  {
   "cell_type": "code",
   "execution_count": 16,
   "id": "fed43a8d",
   "metadata": {},
   "outputs": [
    {
     "name": "stdout",
     "output_type": "stream",
     "text": [
      "0.6280942439606323\n",
      "0.6194452728899493\n",
      "0.6167611094542201\n",
      "0.6069191768565464\n"
     ]
    }
   ],
   "source": [
    "for tr in train:\n",
    "    X_train, X_test, y_train, y_test = train_test_split(tr, label, test_size=0.33, random_state=42)\n",
    "    model = SVC(kernel = 'rbf', gamma = 0.2).fit(X_train, y_train)\n",
    "    prediction = model.predict(X_test)\n",
    "    conf = confusion_matrix(y_test, prediction)\n",
    "    print(np.sum(np.diag(conf))/len(prediction))"
   ]
  },
  {
   "cell_type": "markdown",
   "id": "62cc425c",
   "metadata": {},
   "source": [
    "### NUMBERS ARE STOP WORDS"
   ]
  },
  {
   "cell_type": "code",
   "execution_count": 2,
   "id": "adf11be5",
   "metadata": {},
   "outputs": [],
   "source": [
    "data2  = []\n",
    "with open(\"embedding_without_numbers.json\", 'r') as f:\n",
    "  data2=json.load(f)"
   ]
  },
  {
   "cell_type": "code",
   "execution_count": 4,
   "id": "53f65835",
   "metadata": {},
   "outputs": [],
   "source": [
    "query = np.array(data2[0])\n",
    "product = np.array(data2[1])\n",
    "label = np.array(data2[2])"
   ]
  },
  {
   "cell_type": "code",
   "execution_count": 5,
   "id": "d701f308",
   "metadata": {},
   "outputs": [
    {
     "name": "stdout",
     "output_type": "stream",
     "text": [
      "(10141, 300)\n",
      "(10141, 300)\n",
      "(10141,)\n"
     ]
    }
   ],
   "source": [
    "print(query.shape)\n",
    "print(product.shape)\n",
    "print(label.shape)"
   ]
  },
  {
   "cell_type": "code",
   "execution_count": 70,
   "id": "a0c43445",
   "metadata": {},
   "outputs": [],
   "source": [
    "train = [np.concatenate((query, product), axis = 1), query - product, query + product, query * product]"
   ]
  },
  {
   "cell_type": "code",
   "execution_count": 71,
   "id": "1489441d",
   "metadata": {},
   "outputs": [
    {
     "name": "stdout",
     "output_type": "stream",
     "text": [
      "0.6248127060233742\n",
      "0.6248127060233742\n",
      "0.6248127060233742\n",
      "0.6248127060233742\n"
     ]
    }
   ],
   "source": [
    "for tr in train:\n",
    "    X_train, X_test, y_train, y_test = train_test_split(tr, label, test_size=0.33, random_state=42)\n",
    "    model = SVC(kernel = 'rbf', gamma = 0.2).fit(X_train, y_train)\n",
    "    prediction = model.predict(X_test)\n",
    "    conf = confusion_matrix(y_test, prediction)\n",
    "    print(np.sum(np.diag(conf))/len(prediction))"
   ]
  },
  {
   "cell_type": "code",
   "execution_count": 9,
   "id": "7fe5ef4e",
   "metadata": {},
   "outputs": [
    {
     "name": "stdout",
     "output_type": "stream",
     "text": [
      "0.6398291160039434\n"
     ]
    }
   ],
   "source": [
    "train = np.concatenate((query, product), axis = 1)\n",
    "X_train, X_test, y_train, y_test = train_test_split(train, label, test_size=0.3, random_state=42)\n",
    "model = SVC(kernel = 'rbf', gamma = 0.2).fit(X_train, y_train)\n",
    "prediction = model.predict(X_test)\n",
    "conf = confusion_matrix(y_test, prediction)\n",
    "print(np.sum(np.diag(conf))/len(prediction))"
   ]
  },
  {
   "cell_type": "code",
   "execution_count": null,
   "id": "20fbce84",
   "metadata": {},
   "outputs": [],
   "source": []
  }
 ],
 "metadata": {
  "kernelspec": {
   "display_name": "Python 3",
   "language": "python",
   "name": "python3"
  },
  "language_info": {
   "codemirror_mode": {
    "name": "ipython",
    "version": 3
   },
   "file_extension": ".py",
   "mimetype": "text/x-python",
   "name": "python",
   "nbconvert_exporter": "python",
   "pygments_lexer": "ipython3",
   "version": "3.8.8"
  }
 },
 "nbformat": 4,
 "nbformat_minor": 5
}
