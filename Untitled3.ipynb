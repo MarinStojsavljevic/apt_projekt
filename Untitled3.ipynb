{
  "nbformat": 4,
  "nbformat_minor": 0,
  "metadata": {
    "colab": {
      "name": "Untitled3.ipynb",
      "provenance": []
    },
    "kernelspec": {
      "name": "python3",
      "display_name": "Python 3"
    },
    "language_info": {
      "name": "python"
    }
  },
  "cells": [
    {
      "cell_type": "code",
      "execution_count": 23,
      "metadata": {
        "colab": {
          "base_uri": "https://localhost:8080/"
        },
        "id": "qsCfUobWfKuT",
        "outputId": "1de90185-f87a-49c8-98bb-d0121a2c434a"
      },
      "outputs": [
        {
          "output_type": "stream",
          "name": "stdout",
          "text": [
            "Drive already mounted at /content/drive; to attempt to forcibly remount, call drive.mount(\"/content/drive\", force_remount=True).\n"
          ]
        }
      ],
      "source": [
        "from google.colab import drive\n",
        "drive.mount('/content/drive')\n",
        "\n",
        "import pandas as pd\n",
        "import json\n",
        "import numpy as np\n",
        "from sklearn.svm import SVC\n",
        "from sklearn.model_selection import train_test_split\n",
        "from sklearn.metrics import confusion_matrix\n",
        "from sklearn.svm import SVR\n",
        "from sklearn.metrics import mean_absolute_error as MAE\n",
        "from sklearn.metrics import mean_squared_error as MSE"
      ]
    },
    {
      "cell_type": "code",
      "source": [
        "data  = []\n",
        "with open(\"/content/drive/MyDrive/word2vec_without_numbers.json\", 'r') as f:\n",
        "    data=json.load(f)\n",
        "    without_numbers = pd.DataFrame(data)\n",
        "\n",
        "print(without_numbers.head(1))\n",
        "\n",
        "query = np.array([np.array(list(np.float_(x))) for x in without_numbers['query_vector']])\n",
        "product = np.array([np.array(list(np.float_(x))) for x in without_numbers['product_vector']])\n",
        "label = np.array(without_numbers['median_relevance'])\n",
        "\n",
        "train = [np.concatenate((query, product), axis = 1), query - product, query + product, query * product]\n",
        "\n",
        "for tr in train:\n",
        "    X_train, X_test, y_train, y_test = train_test_split(tr, label, test_size=0.4, random_state=42)\n",
        "    model = SVR(kernel = 'linear').fit(X_train, y_train)\n",
        "    prediction = model.predict(X_test)\n",
        "    print(MAE(y_test, prediction), MSE(y_test, prediction))\n"
      ],
      "metadata": {
        "colab": {
          "base_uri": "https://localhost:8080/"
        },
        "id": "9RHblw_dl7Fg",
        "outputId": "3a4b0c3e-c8a2-4f87-8f15-c2468cdec4d4"
      },
      "execution_count": 24,
      "outputs": [
        {
          "output_type": "stream",
          "name": "stdout",
          "text": [
            "   id                                       query_vector  \\\n",
            "0   1  [-0.067871094, 0.122558594, -0.17480469, 0.086...   \n",
            "\n",
            "                                      product_vector  median_relevance  \\\n",
            "0  [0.010758463, 0.015542602, 0.008837891, 0.0595...                 1   \n",
            "\n",
            "   relevance_variance  \n",
            "0                 0.0  \n",
            "0.5949937826673509 0.7912099329496702\n",
            "0.6546216357301569 0.8792645065674145\n",
            "0.6415964858376851 0.8493766579626596\n",
            "0.6898132629799536 1.1144750047742857\n"
          ]
        }
      ]
    },
    {
      "cell_type": "code",
      "source": [
        "data  = []\n",
        "with open(\"/content/drive/MyDrive/word2vec_with_numbers.json\", 'r') as f:\n",
        "    data=json.load(f)\n",
        "    with_numbers = pd.DataFrame(data)\n",
        "\n",
        "print(without_numbers.head(1))\n",
        "\n",
        "query = np.array([np.array(list(np.float_(x))) for x in with_numbers['query_vector']])\n",
        "product = np.array([np.array(list(np.float_(x))) for x in with_numbers['product_vector']])\n",
        "label = np.array(with_numbers['median_relevance'])\n",
        "\n",
        "train = [np.concatenate((query, product), axis = 1), query - product, query + product, query * product]\n",
        "\n",
        "for tr in train:\n",
        "    X_train, X_test, y_train, y_test = train_test_split(tr, label, test_size=0.4, random_state=42)\n",
        "    model = SVR(kernel = 'linear').fit(X_train, y_train)\n",
        "    prediction = model.predict(X_test)\n",
        "    print(MAE(y_test, prediction), MSE(y_test, prediction))"
      ],
      "metadata": {
        "colab": {
          "base_uri": "https://localhost:8080/"
        },
        "id": "Ci_vlBZFn94r",
        "outputId": "2ecd3a5a-0dad-4fd4-ad5a-3f70ffd538ad"
      },
      "execution_count": 25,
      "outputs": [
        {
          "output_type": "stream",
          "name": "stdout",
          "text": [
            "   id                                       query_vector  \\\n",
            "0   1  [-0.067871094, 0.122558594, -0.17480469, 0.086...   \n",
            "\n",
            "                                      product_vector  median_relevance  \\\n",
            "0  [0.010758463, 0.015542602, 0.008837891, 0.0595...                 1   \n",
            "\n",
            "   relevance_variance  \n",
            "0                 0.0  \n",
            "0.5944924377735168 0.791422319960048\n",
            "0.6531430292941272 0.8760865723367223\n",
            "0.6425975890115347 0.8541168635842786\n",
            "0.6897938637847952 1.115313813121766\n"
          ]
        }
      ]
    },
    {
      "cell_type": "code",
      "source": [
        "data  = []\n",
        "with open(\"/content/drive/MyDrive/word2vec_without_numbers_partially.json\", 'r') as f:\n",
        "    data=json.load(f)\n",
        "    withoutp_numbers = pd.DataFrame(data)\n",
        "\n",
        "print(without_numbers.head(1))\n",
        "\n",
        "query = np.array([np.array(list(np.float_(x))) for x in withoutp_numbers['query_vector']])\n",
        "product = np.array([np.array(list(np.float_(x))) for x in withoutp_numbers['product_vector']])\n",
        "label = np.array(withoutp_numbers['median_relevance'])\n",
        "\n",
        "train = [np.concatenate((query, product), axis = 1), query - product, query + product, query * product]\n",
        "\n",
        "for tr in train:\n",
        "    X_train, X_test, y_train, y_test = train_test_split(tr, label, test_size=0.4, random_state=42)\n",
        "    model = SVR(kernel = 'linear').fit(X_train, y_train)\n",
        "    prediction = model.predict(X_test)\n",
        "    print(MAE(y_test, prediction), MSE(y_test, prediction))"
      ],
      "metadata": {
        "colab": {
          "base_uri": "https://localhost:8080/"
        },
        "id": "ZmLuEdiaoigZ",
        "outputId": "6aea5ea9-391b-4b67-ba2e-046315654efd"
      },
      "execution_count": 26,
      "outputs": [
        {
          "output_type": "stream",
          "name": "stdout",
          "text": [
            "   id                                       query_vector  \\\n",
            "0   1  [-0.067871094, 0.122558594, -0.17480469, 0.086...   \n",
            "\n",
            "                                      product_vector  median_relevance  \\\n",
            "0  [0.010758463, 0.015542602, 0.008837891, 0.0595...                 1   \n",
            "\n",
            "   relevance_variance  \n",
            "0                 0.0  \n",
            "0.5941600901655384 0.7918457137403566\n",
            "0.6542307926782174 0.8776017033724947\n",
            "0.6416758305044253 0.852386901992414\n",
            "0.6898051616185545 1.1146957934685808\n"
          ]
        }
      ]
    },
    {
      "cell_type": "code",
      "source": [
        "data  = []\n",
        "with open(\"/content/drive/MyDrive/word2vec_without_numbers.json\", 'r') as f:\n",
        "    data=json.load(f)\n",
        "    without_numbers = pd.DataFrame(data)\n",
        "\n",
        "print(without_numbers.head(1))\n",
        "\n",
        "query = np.array([np.array(list(np.float_(x))) for x in without_numbers['query_vector']])\n",
        "product = np.array([np.array(list(np.float_(x))) for x in without_numbers['product_vector']])\n",
        "label = np.array(without_numbers['median_relevance'])\n",
        "\n",
        "train = [np.concatenate((query, product), axis = 1), query - product, query + product, query * product]\n",
        "\n",
        "for tr in train:\n",
        "    X_train, X_test, y_train, y_test = train_test_split(tr, label, test_size=0.4, random_state=42)\n",
        "    model = SVC(kernel = 'linear').fit(X_train, y_train)\n",
        "    prediction = model.predict(X_test)\n",
        "    print(MAE(y_test, prediction), MSE(y_test, prediction))\n",
        "    conf = confusion_matrix(y_test, prediction)\n",
        "    print(np.sum(np.diag(conf))/len(prediction))\n"
      ],
      "metadata": {
        "colab": {
          "base_uri": "https://localhost:8080/"
        },
        "id": "382xPaM6s62t",
        "outputId": "75f32089-ee4b-44de-a2d0-436f27243859"
      },
      "execution_count": 30,
      "outputs": [
        {
          "output_type": "stream",
          "name": "stdout",
          "text": [
            "   id                                       query_vector  \\\n",
            "0   1  [-0.067871094, 0.122558594, -0.17480469, 0.086...   \n",
            "\n",
            "                                      product_vector  median_relevance  \\\n",
            "0  [0.010758463, 0.015542602, 0.008837891, 0.0595...                 1   \n",
            "\n",
            "   relevance_variance  \n",
            "0                 0.0  \n",
            "0.5445374015748031 1.0268208661417322\n",
            "0.6532972440944882\n",
            "0.5957185039370079 1.1739665354330708\n",
            "0.6387795275590551\n",
            "0.5999015748031497 1.1683070866141732\n",
            "0.6313976377952756\n",
            "0.6865157480314961 1.437007874015748\n",
            "0.6109744094488189\n"
          ]
        }
      ]
    },
    {
      "cell_type": "code",
      "source": [
        "data  = []\n",
        "with open(\"/content/drive/MyDrive/word2vec_with_numbers.json\", 'r') as f:\n",
        "    data=json.load(f)\n",
        "    with_numbers = pd.DataFrame(data)\n",
        "\n",
        "print(without_numbers.head(1))\n",
        "\n",
        "query = np.array([np.array(list(np.float_(x))) for x in with_numbers['query_vector']])\n",
        "product = np.array([np.array(list(np.float_(x))) for x in with_numbers['product_vector']])\n",
        "label = np.array(with_numbers['median_relevance'])\n",
        "\n",
        "train = [np.concatenate((query, product), axis = 1), query - product, query + product, query * product]\n",
        "\n",
        "for tr in train:\n",
        "    X_train, X_test, y_train, y_test = train_test_split(tr, label, test_size=0.4, random_state=42)\n",
        "    model = SVC(kernel = 'linear').fit(X_train, y_train)\n",
        "    prediction = model.predict(X_test)\n",
        "    print(MAE(y_test, prediction), MSE(y_test, prediction))\n",
        "    conf = confusion_matrix(y_test, prediction)\n",
        "    print(np.sum(np.diag(conf))/len(prediction))"
      ],
      "metadata": {
        "colab": {
          "base_uri": "https://localhost:8080/"
        },
        "id": "RVSW4dICs8E_",
        "outputId": "3b647f06-6745-454b-d7da-48c12b8ffc25"
      },
      "execution_count": 31,
      "outputs": [
        {
          "output_type": "stream",
          "name": "stdout",
          "text": [
            "   id                                       query_vector  \\\n",
            "0   1  [-0.067871094, 0.122558594, -0.17480469, 0.086...   \n",
            "\n",
            "                                      product_vector  median_relevance  \\\n",
            "0  [0.010758463, 0.015542602, 0.008837891, 0.0595...                 1   \n",
            "\n",
            "   relevance_variance  \n",
            "0                 0.0  \n",
            "0.5445374015748031 1.0248523622047243\n",
            "0.6528051181102362\n",
            "0.5905511811023622 1.1633858267716535\n",
            "0.6419783464566929\n",
            "0.6016240157480315 1.1754429133858268\n",
            "0.6316437007874016\n",
            "0.6865157480314961 1.437007874015748\n",
            "0.6109744094488189\n"
          ]
        }
      ]
    },
    {
      "cell_type": "code",
      "source": [
        "data  = []\n",
        "with open(\"/content/drive/MyDrive/word2vec_without_numbers_partially.json\", 'r') as f:\n",
        "    data=json.load(f)\n",
        "    withoutp_numbers = pd.DataFrame(data)\n",
        "\n",
        "print(without_numbers.head(1))\n",
        "\n",
        "query = np.array([np.array(list(np.float_(x))) for x in withoutp_numbers['query_vector']])\n",
        "product = np.array([np.array(list(np.float_(x))) for x in withoutp_numbers['product_vector']])\n",
        "label = np.array(withoutp_numbers['median_relevance'])\n",
        "\n",
        "train = [np.concatenate((query, product), axis = 1), query - product, query + product, query * product]\n",
        "\n",
        "for tr in train:\n",
        "    X_train, X_test, y_train, y_test = train_test_split(tr, label, test_size=0.4, random_state=42)\n",
        "    model = SVC(kernel = 'linear').fit(X_train, y_train)\n",
        "    prediction = model.predict(X_test)\n",
        "    print(MAE(y_test, prediction), MSE(y_test, prediction))\n",
        "    conf = confusion_matrix(y_test, prediction)\n",
        "    print(np.sum(np.diag(conf))/len(prediction))"
      ],
      "metadata": {
        "colab": {
          "base_uri": "https://localhost:8080/"
        },
        "id": "GOb4E5sBs8jj",
        "outputId": "a681f279-c591-4e05-cb0a-e82d03502eba"
      },
      "execution_count": 32,
      "outputs": [
        {
          "output_type": "stream",
          "name": "stdout",
          "text": [
            "   id                                       query_vector  \\\n",
            "0   1  [-0.067871094, 0.122558594, -0.17480469, 0.086...   \n",
            "\n",
            "                                      product_vector  median_relevance  \\\n",
            "0  [0.010758463, 0.015542602, 0.008837891, 0.0595...                 1   \n",
            "\n",
            "   relevance_variance  \n",
            "0                 0.0  \n",
            "0.5440452755905512 1.0214074803149606\n",
            "0.6525590551181102\n",
            "0.5927657480314961 1.1651082677165354\n",
            "0.6395177165354331\n",
            "0.6026082677165354 1.174458661417323\n",
            "0.6299212598425197\n",
            "0.6865157480314961 1.437007874015748\n",
            "0.6109744094488189\n"
          ]
        }
      ]
    }
  ]
}