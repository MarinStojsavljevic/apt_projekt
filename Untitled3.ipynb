{
  "nbformat": 4,
  "nbformat_minor": 0,
  "metadata": {
    "colab": {
      "name": "Untitled3.ipynb",
      "provenance": []
    },
    "kernelspec": {
      "name": "python3",
      "display_name": "Python 3"
    },
    "language_info": {
      "name": "python"
    }
  },
  "cells": [
    {
      "cell_type": "code",
      "execution_count": 5,
      "metadata": {
        "colab": {
          "base_uri": "https://localhost:8080/"
        },
        "id": "qsCfUobWfKuT",
        "outputId": "42f0fc1f-3d7f-4fe8-c5e6-54252e3809f1"
      },
      "outputs": [
        {
          "output_type": "stream",
          "name": "stdout",
          "text": [
            "Mounted at /content/drive\n"
          ]
        }
      ],
      "source": [
        "from google.colab import drive\n",
        "drive.mount('/content/drive')\n",
        "\n",
        "import pandas as pd\n",
        "import json\n",
        "import numpy as np\n",
        "from sklearn.svm import SVC\n",
        "from sklearn.model_selection import train_test_split\n",
        "from sklearn.metrics import confusion_matrix\n",
        "from sklearn.svm import SVR\n",
        "from sklearn.metrics import mean_absolute_error as MAE\n",
        "from sklearn.metrics import mean_squared_error as MSE"
      ]
    },
    {
      "cell_type": "code",
      "source": [
        "def accuracy(real, pred):\n",
        "  pred=[round(x) for x in pred]\n",
        "  pred=[1 if x<1 else x for x in pred]\n",
        "  pred=[4 if x>4 else x for x in pred]\n",
        "  s=np.sum(pred == real)\n",
        "  return s/len(pred)"
      ],
      "metadata": {
        "id": "P0NLsH3UQ_35"
      },
      "execution_count": 7,
      "outputs": []
    },
    {
      "cell_type": "code",
      "source": [
        "data  = []\n",
        "with open(\"/content/drive/MyDrive/Colab Notebooks/apt/word2vec_without_numbers.json\", 'r') as f:\n",
        "    data=json.load(f)\n",
        "    without_numbers = pd.DataFrame(data)\n",
        "\n",
        "print(without_numbers.head(1))\n",
        "\n",
        "query = np.array([np.array(list(np.float_(x))) for x in without_numbers['query_vector']])\n",
        "product = np.array([np.array(list(np.float_(x))) for x in without_numbers['product_vector']])\n",
        "label = np.array(without_numbers['median_relevance'])\n",
        "\n",
        "train = [np.concatenate((query, product), axis = 1), query - product, query + product, query * product]\n",
        "\n",
        "for tr in train:\n",
        "    X_train, X_test, y_train, y_test = train_test_split(tr, label, test_size=0.4, random_state=42)\n",
        "    model = SVR(kernel = 'linear').fit(X_train, y_train)\n",
        "    prediction = model.predict(X_test)\n",
        "    print(MAE(y_test, prediction), MSE(y_test, prediction))\n",
        "    print(accuracy(y_test, prediction))"
      ],
      "metadata": {
        "colab": {
          "base_uri": "https://localhost:8080/"
        },
        "id": "9RHblw_dl7Fg",
        "outputId": "4becc730-4910-41d7-83f1-217fdd259bad"
      },
      "execution_count": 8,
      "outputs": [
        {
          "output_type": "stream",
          "name": "stdout",
          "text": [
            "   id                                       query_vector  \\\n",
            "0   1  [-0.067871094, 0.122558594, -0.17480469, 0.086...   \n",
            "\n",
            "                                      product_vector  median_relevance  \\\n",
            "0  [0.010758463, 0.015542602, 0.008837891, 0.0595...                 1   \n",
            "\n",
            "   relevance_variance  \n",
            "0                 0.0  \n",
            "0.5949937826673509 0.7912099329496702\n",
            "0.5868602362204725\n",
            "0.6546216357301569 0.8792645065674145\n",
            "0.5563484251968503\n",
            "0.6415964858376851 0.8493766579626596\n",
            "0.562253937007874\n",
            "0.6898132629799536 1.1144750047742857\n",
            "0.6119586614173228\n"
          ]
        }
      ]
    },
    {
      "cell_type": "code",
      "source": [
        "data  = []\n",
        "with open(\"/content/drive/MyDrive/Colab Notebooks/apt/word2vec_with_numbers.json\", 'r') as f:\n",
        "    data=json.load(f)\n",
        "    with_numbers = pd.DataFrame(data)\n",
        "\n",
        "print(without_numbers.head(1))\n",
        "\n",
        "query = np.array([np.array(list(np.float_(x))) for x in with_numbers['query_vector']])\n",
        "product = np.array([np.array(list(np.float_(x))) for x in with_numbers['product_vector']])\n",
        "label = np.array(with_numbers['median_relevance'])\n",
        "\n",
        "train = [np.concatenate((query, product), axis = 1), query - product, query + product, query * product]\n",
        "\n",
        "for tr in train:\n",
        "    X_train, X_test, y_train, y_test = train_test_split(tr, label, test_size=0.4, random_state=42)\n",
        "    model = SVR(kernel = 'linear').fit(X_train, y_train)\n",
        "    prediction = model.predict(X_test)\n",
        "    print(MAE(y_test, prediction), MSE(y_test, prediction))\n",
        "    print(accuracy(y_test, prediction))"
      ],
      "metadata": {
        "colab": {
          "base_uri": "https://localhost:8080/"
        },
        "id": "Ci_vlBZFn94r",
        "outputId": "47268619-6500-482b-94a1-f3347c3aa1c2"
      },
      "execution_count": 9,
      "outputs": [
        {
          "output_type": "stream",
          "name": "stdout",
          "text": [
            "   id                                       query_vector  \\\n",
            "0   1  [-0.067871094, 0.122558594, -0.17480469, 0.086...   \n",
            "\n",
            "                                      product_vector  median_relevance  \\\n",
            "0  [0.010758463, 0.015542602, 0.008837891, 0.0595...                 1   \n",
            "\n",
            "   relevance_variance  \n",
            "0                 0.0  \n",
            "0.5944924377735168 0.791422319960048\n",
            "0.5890748031496063\n",
            "0.6531430292941272 0.8760865723367223\n",
            "0.5551181102362205\n",
            "0.6425975890115347 0.8541168635842786\n",
            "0.5625\n",
            "0.6897938637847952 1.115313813121766\n",
            "0.6122047244094488\n"
          ]
        }
      ]
    },
    {
      "cell_type": "code",
      "source": [
        "data  = []\n",
        "with open(\"/content/drive/MyDrive/Colab Notebooks/apt/word2vec_without_numbers_partially.json\", 'r') as f:\n",
        "    data=json.load(f)\n",
        "    withoutp_numbers = pd.DataFrame(data)\n",
        "\n",
        "print(without_numbers.head(1))\n",
        "\n",
        "query = np.array([np.array(list(np.float_(x))) for x in withoutp_numbers['query_vector']])\n",
        "product = np.array([np.array(list(np.float_(x))) for x in withoutp_numbers['product_vector']])\n",
        "label = np.array(withoutp_numbers['median_relevance'])\n",
        "\n",
        "train = [np.concatenate((query, product), axis = 1), query - product, query + product, query * product]\n",
        "\n",
        "for tr in train:\n",
        "    X_train, X_test, y_train, y_test = train_test_split(tr, label, test_size=0.4, random_state=42)\n",
        "    model = SVR(kernel = 'linear').fit(X_train, y_train)\n",
        "    prediction = model.predict(X_test)\n",
        "    print(MAE(y_test, prediction), MSE(y_test, prediction))\n",
        "    print(accuracy(y_test, prediction))"
      ],
      "metadata": {
        "colab": {
          "base_uri": "https://localhost:8080/"
        },
        "id": "ZmLuEdiaoigZ",
        "outputId": "119904bb-f150-4804-c1d9-fbd528aed45b"
      },
      "execution_count": 10,
      "outputs": [
        {
          "output_type": "stream",
          "name": "stdout",
          "text": [
            "   id                                       query_vector  \\\n",
            "0   1  [-0.067871094, 0.122558594, -0.17480469, 0.086...   \n",
            "\n",
            "                                      product_vector  median_relevance  \\\n",
            "0  [0.010758463, 0.015542602, 0.008837891, 0.0595...                 1   \n",
            "\n",
            "   relevance_variance  \n",
            "0                 0.0  \n",
            "0.5941600901655384 0.7918457137403566\n",
            "0.5907972440944882\n",
            "0.6542307926782174 0.8776017033724947\n",
            "0.5568405511811023\n",
            "0.6416758305044253 0.852386901992414\n",
            "0.562007874015748\n",
            "0.6898051616185545 1.1146957934685808\n",
            "0.6117125984251969\n"
          ]
        }
      ]
    },
    {
      "cell_type": "code",
      "source": [
        "data  = []\n",
        "with open(\"/content/drive/MyDrive/Colab Notebooks/apt/word2vec_without_numbers.json\", 'r') as f:\n",
        "    data=json.load(f)\n",
        "    without_numbers = pd.DataFrame(data)\n",
        "\n",
        "print(without_numbers.head(1))\n",
        "\n",
        "query = np.array([np.array(list(np.float_(x))) for x in without_numbers['query_vector']])\n",
        "product = np.array([np.array(list(np.float_(x))) for x in without_numbers['product_vector']])\n",
        "label = np.array(without_numbers['median_relevance'])\n",
        "\n",
        "train = [np.concatenate((query, product), axis = 1), query - product, query + product, query * product]\n",
        "\n",
        "for tr in train:\n",
        "    X_train, X_test, y_train, y_test = train_test_split(tr, label, test_size=0.4, random_state=42)\n",
        "    model = SVC(kernel = 'linear').fit(X_train, y_train)\n",
        "    prediction = model.predict(X_test)\n",
        "    print(MAE(y_test, prediction), MSE(y_test, prediction))\n",
        "    conf = confusion_matrix(y_test, prediction)\n",
        "    print(np.sum(np.diag(conf))/len(prediction))\n"
      ],
      "metadata": {
        "colab": {
          "base_uri": "https://localhost:8080/"
        },
        "id": "382xPaM6s62t",
        "outputId": "f88ee422-03ae-49a9-c983-e82db4563043"
      },
      "execution_count": null,
      "outputs": [
        {
          "output_type": "stream",
          "name": "stdout",
          "text": [
            "   id                                       query_vector  \\\n",
            "0   1  [-0.067871094, 0.122558594, -0.17480469, 0.086...   \n",
            "\n",
            "                                      product_vector  median_relevance  \\\n",
            "0  [0.010758463, 0.015542602, 0.008837891, 0.0595...                 1   \n",
            "\n",
            "   relevance_variance  \n",
            "0                 0.0  \n",
            "0.5445374015748031 1.0268208661417322\n",
            "0.6532972440944882\n",
            "0.5957185039370079 1.1739665354330708\n",
            "0.6387795275590551\n",
            "0.5999015748031497 1.1683070866141732\n",
            "0.6313976377952756\n",
            "0.6865157480314961 1.437007874015748\n",
            "0.6109744094488189\n"
          ]
        }
      ]
    },
    {
      "cell_type": "code",
      "source": [
        "data  = []\n",
        "with open(\"/content/drive/MyDrive/Colab Notebooks/apt/word2vec_with_numbers.json\", 'r') as f:\n",
        "    data=json.load(f)\n",
        "    with_numbers = pd.DataFrame(data)\n",
        "\n",
        "print(without_numbers.head(1))\n",
        "\n",
        "query = np.array([np.array(list(np.float_(x))) for x in with_numbers['query_vector']])\n",
        "product = np.array([np.array(list(np.float_(x))) for x in with_numbers['product_vector']])\n",
        "label = np.array(with_numbers['median_relevance'])\n",
        "\n",
        "train = [np.concatenate((query, product), axis = 1), query - product, query + product, query * product]\n",
        "\n",
        "for tr in train:\n",
        "    X_train, X_test, y_train, y_test = train_test_split(tr, label, test_size=0.4, random_state=42)\n",
        "    model = SVC(kernel = 'linear').fit(X_train, y_train)\n",
        "    prediction = model.predict(X_test)\n",
        "    print(MAE(y_test, prediction), MSE(y_test, prediction))\n",
        "    conf = confusion_matrix(y_test, prediction)\n",
        "    print(np.sum(np.diag(conf))/len(prediction))"
      ],
      "metadata": {
        "colab": {
          "base_uri": "https://localhost:8080/"
        },
        "id": "RVSW4dICs8E_",
        "outputId": "60baa27e-2c57-43cd-f647-4095a2df0739"
      },
      "execution_count": null,
      "outputs": [
        {
          "output_type": "stream",
          "name": "stdout",
          "text": [
            "   id                                       query_vector  \\\n",
            "0   1  [-0.067871094, 0.122558594, -0.17480469, 0.086...   \n",
            "\n",
            "                                      product_vector  median_relevance  \\\n",
            "0  [0.010758463, 0.015542602, 0.008837891, 0.0595...                 1   \n",
            "\n",
            "   relevance_variance  \n",
            "0                 0.0  \n",
            "0.5445374015748031 1.0248523622047243\n",
            "0.6528051181102362\n",
            "0.5905511811023622 1.1633858267716535\n",
            "0.6419783464566929\n",
            "0.6016240157480315 1.1754429133858268\n",
            "0.6316437007874016\n",
            "0.6865157480314961 1.437007874015748\n",
            "0.6109744094488189\n"
          ]
        }
      ]
    },
    {
      "cell_type": "code",
      "source": [
        "data  = []\n",
        "with open(\"/content/drive/MyDrive/Colab Notebooks/apt/word2vec_without_numbers_partially.json\", 'r') as f:\n",
        "    data=json.load(f)\n",
        "    withoutp_numbers = pd.DataFrame(data)\n",
        "\n",
        "print(without_numbers.head(1))\n",
        "\n",
        "query = np.array([np.array(list(np.float_(x))) for x in withoutp_numbers['query_vector']])\n",
        "product = np.array([np.array(list(np.float_(x))) for x in withoutp_numbers['product_vector']])\n",
        "label = np.array(withoutp_numbers['median_relevance'])\n",
        "\n",
        "train = [np.concatenate((query, product), axis = 1), query - product, query + product, query * product]\n",
        "\n",
        "for tr in train:\n",
        "    X_train, X_test, y_train, y_test = train_test_split(tr, label, test_size=0.4, random_state=42)\n",
        "    model = SVC(kernel = 'linear').fit(X_train, y_train)\n",
        "    prediction = model.predict(X_test)\n",
        "    print(MAE(y_test, prediction), MSE(y_test, prediction))\n",
        "    conf = confusion_matrix(y_test, prediction)\n",
        "    print(np.sum(np.diag(conf))/len(prediction))"
      ],
      "metadata": {
        "colab": {
          "base_uri": "https://localhost:8080/"
        },
        "id": "GOb4E5sBs8jj",
        "outputId": "acb6c430-89bd-409d-d311-eb71420f42a3"
      },
      "execution_count": null,
      "outputs": [
        {
          "output_type": "stream",
          "name": "stdout",
          "text": [
            "   id                                       query_vector  \\\n",
            "0   1  [-0.067871094, 0.122558594, -0.17480469, 0.086...   \n",
            "\n",
            "                                      product_vector  median_relevance  \\\n",
            "0  [0.010758463, 0.015542602, 0.008837891, 0.0595...                 1   \n",
            "\n",
            "   relevance_variance  \n",
            "0                 0.0  \n",
            "0.5440452755905512 1.0214074803149606\n",
            "0.6525590551181102\n",
            "0.5927657480314961 1.1651082677165354\n",
            "0.6395177165354331\n",
            "0.6026082677165354 1.174458661417323\n",
            "0.6299212598425197\n",
            "0.6865157480314961 1.437007874015748\n",
            "0.6109744094488189\n"
          ]
        }
      ]
    },
    {
      "cell_type": "code",
      "source": [
        "data  = []\n",
        "with open(\"/content/drive/MyDrive/Colab Notebooks/apt/fasttext_without_numbers.json\", 'r') as f:\n",
        "    data=json.load(f)\n",
        "    without_numbers = pd.DataFrame(data)\n",
        "\n",
        "print(without_numbers.head(1))\n",
        "\n",
        "query = np.array([np.array(list(np.float_(x))) for x in without_numbers['query_vector']])\n",
        "product = np.array([np.array(list(np.float_(x))) for x in without_numbers['product_vector']])\n",
        "label = np.array(without_numbers['median_relevance'])\n",
        "\n",
        "train = [np.concatenate((query, product), axis = 1), query - product, query + product, query * product]\n",
        "\n",
        "for tr in train:\n",
        "    X_train, X_test, y_train, y_test = train_test_split(tr, label, test_size=0.4, random_state=42)\n",
        "    model = SVR(kernel = 'linear').fit(X_train, y_train)\n",
        "    prediction = model.predict(X_test)\n",
        "    print(MAE(y_test, prediction), MSE(y_test, prediction))\n",
        "    print(accuracy(y_test, prediction))"
      ],
      "metadata": {
        "colab": {
          "base_uri": "https://localhost:8080/"
        },
        "id": "F7AsOGOTTvmr",
        "outputId": "2d5f2339-3f73-49f4-d3a0-d2b2b292d35f"
      },
      "execution_count": 11,
      "outputs": [
        {
          "output_type": "stream",
          "name": "stdout",
          "text": [
            "   id                                       query_vector  \\\n",
            "0   1  [0.012943572, 0.015888123, -0.025562584, 0.090...   \n",
            "\n",
            "                                      product_vector  median_relevance  \\\n",
            "0  [-0.0061351587, -0.023503311, 0.06992354, 0.06...                 1   \n",
            "\n",
            "   relevance_variance  \n",
            "0                 0.0  \n",
            "0.6056523851749798 0.8155108702288657\n",
            "0.5728346456692913\n",
            "0.6455037838403658 0.8771035258622563\n",
            "0.5728346456692913\n",
            "0.6457004789103323 0.8875119630930557\n",
            "0.5676673228346457\n",
            "0.7060203190590516 1.289950070780102\n",
            "0.6107283464566929\n"
          ]
        }
      ]
    },
    {
      "cell_type": "code",
      "source": [
        "data  = []\n",
        "with open(\"/content/drive/MyDrive/Colab Notebooks/apt/fasttext_with_numbers.json\", 'r') as f:\n",
        "    data=json.load(f)\n",
        "    without_numbers = pd.DataFrame(data)\n",
        "\n",
        "print(without_numbers.head(1))\n",
        "\n",
        "query = np.array([np.array(list(np.float_(x))) for x in without_numbers['query_vector']])\n",
        "product = np.array([np.array(list(np.float_(x))) for x in without_numbers['product_vector']])\n",
        "label = np.array(without_numbers['median_relevance'])\n",
        "\n",
        "train = [np.concatenate((query, product), axis = 1), query - product, query + product, query * product]\n",
        "\n",
        "for tr in train:\n",
        "    X_train, X_test, y_train, y_test = train_test_split(tr, label, test_size=0.4, random_state=42)\n",
        "    model = SVR(kernel = 'linear').fit(X_train, y_train)\n",
        "    prediction = model.predict(X_test)\n",
        "    print(MAE(y_test, prediction), MSE(y_test, prediction))\n",
        "    print(accuracy(y_test, prediction))"
      ],
      "metadata": {
        "colab": {
          "base_uri": "https://localhost:8080/"
        },
        "id": "TgjY4TwhTytY",
        "outputId": "85eb4c34-ec01-430a-b9a5-d7c85bfd9f05"
      },
      "execution_count": 12,
      "outputs": [
        {
          "output_type": "stream",
          "name": "stdout",
          "text": [
            "   id                                       query_vector  \\\n",
            "0   1  [0.012943572, 0.015888123, -0.025562584, 0.090...   \n",
            "\n",
            "                                      product_vector  median_relevance  \\\n",
            "0  [-0.0042361375, 0.008490032, 0.07483778, 0.015...                 1   \n",
            "\n",
            "   relevance_variance  \n",
            "0                 0.0  \n",
            "0.6054169599939361 0.8169540932366014\n",
            "0.5748031496062992\n",
            "0.6438238217521456 0.8733894798934501\n",
            "0.5716043307086615\n",
            "0.6451935597388577 0.8883955754866446\n",
            "0.5659448818897638\n",
            "0.7062477554849385 1.2906047589351413\n",
            "0.6109744094488189\n"
          ]
        }
      ]
    },
    {
      "cell_type": "code",
      "source": [
        "data  = []\n",
        "with open(\"/content/drive/MyDrive/Colab Notebooks/apt/fasttext_without_numbers_partially.json\", 'r') as f:\n",
        "    data=json.load(f)\n",
        "    without_numbers = pd.DataFrame(data)\n",
        "\n",
        "print(without_numbers.head(1))\n",
        "\n",
        "query = np.array([np.array(list(np.float_(x))) for x in without_numbers['query_vector']])\n",
        "product = np.array([np.array(list(np.float_(x))) for x in without_numbers['product_vector']])\n",
        "label = np.array(without_numbers['median_relevance'])\n",
        "\n",
        "train = [np.concatenate((query, product), axis = 1), query - product, query + product, query * product]\n",
        "\n",
        "for tr in train:\n",
        "    X_train, X_test, y_train, y_test = train_test_split(tr, label, test_size=0.4, random_state=42)\n",
        "    model = SVR(kernel = 'linear').fit(X_train, y_train)\n",
        "    prediction = model.predict(X_test)\n",
        "    print(MAE(y_test, prediction), MSE(y_test, prediction))\n",
        "    print(accuracy(y_test, prediction))"
      ],
      "metadata": {
        "colab": {
          "base_uri": "https://localhost:8080/"
        },
        "id": "VZz8U0RBT36n",
        "outputId": "22b38790-c140-4166-f986-0a298d1a545d"
      },
      "execution_count": 13,
      "outputs": [
        {
          "output_type": "stream",
          "name": "stdout",
          "text": [
            "   id                                       query_vector  \\\n",
            "0   1  [0.012943572, 0.015888123, -0.025562584, 0.090...   \n",
            "\n",
            "                                      product_vector  median_relevance  \\\n",
            "0  [-0.0061351587, -0.023503311, 0.06992354, 0.06...                 1   \n",
            "\n",
            "   relevance_variance  \n",
            "0                 0.0  \n",
            "0.6048624686334948 0.817125482104395\n",
            "0.5743110236220472\n",
            "0.6454958842700605 0.8761345601759484\n",
            "0.5743110236220472\n",
            "0.6469650275489399 0.8906894255938755\n",
            "0.5669291338582677\n",
            "0.7060977430319952 1.2897119045330665\n",
            "0.6107283464566929\n"
          ]
        }
      ]
    }
  ]
}