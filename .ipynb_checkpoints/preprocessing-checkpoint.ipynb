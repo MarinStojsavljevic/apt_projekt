{
 "cells": [
  {
   "cell_type": "markdown",
   "metadata": {},
   "source": [
    "## Pretprocessing"
   ]
  },
  {
   "cell_type": "markdown",
   "metadata": {},
   "source": [
    "#### Ucitavamo dataset i pretprocesiramo ga."
   ]
  },
  {
   "cell_type": "code",
   "execution_count": 5,
   "metadata": {},
   "outputs": [],
   "source": [
    "import pandas as pd\n",
    "import spacy"
   ]
  },
  {
   "cell_type": "code",
   "execution_count": 6,
   "metadata": {},
   "outputs": [],
   "source": [
    "train_set = pd.read_csv(filepath_or_buffer='./Dataset/train.csv', sep=',')\n",
    "test_set = pd.read_csv(filepath_or_buffer='./Dataset/test.csv', sep=',')\n",
    "sample_submission_set = pd.read_csv(filepath_or_buffer='./Dataset/sampleSubmission.csv', sep=',')"
   ]
  },
  {
   "cell_type": "code",
   "execution_count": null,
   "metadata": {},
   "outputs": [],
   "source": [
    "print(train_set.head(4))"
   ]
  },
  {
   "cell_type": "code",
   "execution_count": null,
   "metadata": {},
   "outputs": [],
   "source": [
    "print(test_set.head(20))"
   ]
  },
  {
   "cell_type": "code",
   "execution_count": null,
   "metadata": {},
   "outputs": [],
   "source": [
    "print(sample_submission_set.head(20))"
   ]
  },
  {
   "cell_type": "code",
   "execution_count": 7,
   "metadata": {},
   "outputs": [
    {
     "name": "stdout",
     "output_type": "stream",
     "text": [
      "10158\n",
      "22513\n",
      "22513\n"
     ]
    }
   ],
   "source": [
    "print(len(train_set))\n",
    "print(len(test_set))\n",
    "print(len(sample_submission_set))"
   ]
  },
  {
   "cell_type": "code",
   "execution_count": 9,
   "metadata": {},
   "outputs": [],
   "source": [
    "nlp = spacy.load(\"en_core_web_sm\")"
   ]
  },
  {
   "cell_type": "code",
   "execution_count": 10,
   "metadata": {},
   "outputs": [],
   "source": [
    "#zamjena svih praznina s jednim praznim znakom\n",
    "#gledaj samo tokene koji nisu stopwords i koji nisu punktacijski znakovi\n",
    "#napisi sve tokene malim slovima \n",
    "\n",
    "#mozda omogucit da se svi numericki znakovi zamjenjuju slovima?\n",
    "\n",
    "def preprocess_text(texts):\n",
    "    all_preprocessed = []\n",
    "    \n",
    "    for tup in texts.items():\n",
    "        preprocessed_text = []\n",
    "        text = tup[1]\n",
    "\n",
    "        if isinstance(text, float):\n",
    "            preprocessed_text.append([\"\"])\n",
    "        \n",
    "        else:\n",
    "            text = ' '.join(text.split())\n",
    "            \n",
    "            doc = nlp(text)\n",
    "\n",
    "            for sent in doc.sents: \n",
    "                for token in sent:\n",
    "                    if not token.is_stop and not token.is_punct:\n",
    "                        preprocessed_text.append(str.lower(token.lemma_))\n",
    "\n",
    "        all_preprocessed.append(\" \".join(map(str, preprocessed_text)))\n",
    "        \n",
    "    return all_preprocessed\n",
    "        \n"
   ]
  },
  {
   "cell_type": "code",
   "execution_count": 11,
   "metadata": {},
   "outputs": [],
   "source": [
    "#spajamo naslov i opis produkta u 1 stupac kako bi ih mogli zajedno pretprocesirat\n",
    "\n",
    "df_preprocessed = pd.DataFrame(train_set)\n",
    "df_preprocessed['product'] = df_preprocessed[\"product_title\"] + \" \" + df_preprocessed[\"product_description\"]"
   ]
  },
  {
   "cell_type": "code",
   "execution_count": 12,
   "metadata": {},
   "outputs": [],
   "source": [
    "#preprocesiraj posebno query i posebno product\n",
    "\n",
    "df_preprocessed[\"product\"] = preprocess_text(df_preprocessed[\"product\"])\n",
    "df_preprocessed[\"query\"] = preprocess_text(df_preprocessed[\"query\"])"
   ]
  },
  {
   "cell_type": "code",
   "execution_count": 15,
   "metadata": {},
   "outputs": [
    {
     "name": "stdout",
     "output_type": "stream",
     "text": [
      "hobbit battle armies 3d blu ray disc anamorphic widescreen 16:9 blu ray disc anamorphic widescreen 16:9 | star armitage richard freeman martin mckellen ian | new line warner | 03/24/2015 | 00794043164507\n"
     ]
    }
   ],
   "source": [
    "print(df_preprocessed[\"product\"][17])"
   ]
  },
  {
   "cell_type": "code",
   "execution_count": 17,
   "metadata": {},
   "outputs": [
    {
     "name": "stdout",
     "output_type": "stream",
     "text": [
      "bluray hobbit extend\n"
     ]
    }
   ],
   "source": [
    "print(df_preprocessed[\"query\"][17])"
   ]
  },
  {
   "cell_type": "code",
   "execution_count": 18,
   "metadata": {},
   "outputs": [],
   "source": [
    "del df_preprocessed[\"product_title\"]\n",
    "del df_preprocessed[\"product_description\"]"
   ]
  },
  {
   "cell_type": "code",
   "execution_count": 19,
   "metadata": {},
   "outputs": [],
   "source": [
    "df_preprocessed.to_csv(r'./Dataset/dataframes/df_preprocessed.csv', encoding='utf-8', header='true')"
   ]
  }
 ],
 "metadata": {
  "interpreter": {
   "hash": "f2bf11d8767c50a74e7ca8cca20ade7bf72bdfe435dc3a1ec7a8fe848b18ee20"
  },
  "kernelspec": {
   "display_name": "Python 3",
   "language": "python",
   "name": "python3"
  },
  "language_info": {
   "codemirror_mode": {
    "name": "ipython",
    "version": 3
   },
   "file_extension": ".py",
   "mimetype": "text/x-python",
   "name": "python",
   "nbconvert_exporter": "python",
   "pygments_lexer": "ipython3",
   "version": "3.8.8"
  }
 },
 "nbformat": 4,
 "nbformat_minor": 2
}
