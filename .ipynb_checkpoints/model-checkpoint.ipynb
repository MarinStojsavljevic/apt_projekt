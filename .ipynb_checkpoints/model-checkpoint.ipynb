{
 "cells": [
  {
   "cell_type": "code",
   "execution_count": 1,
   "metadata": {
    "id": "Ljd46Ow12GAI"
   },
   "outputs": [],
   "source": [
    "import pandas as pd\n",
    "from sklearn.model_selection import train_test_split\n",
    "import numpy as np\n",
    "import csv\n",
    "import json"
   ]
  },
  {
   "cell_type": "code",
   "execution_count": 2,
   "metadata": {
    "colab": {
     "base_uri": "https://localhost:8080/"
    },
    "id": "ogQ6as_x2KMQ",
    "outputId": "ffa363b7-a777-4119-a539-6120a8aff805"
   },
   "outputs": [
    {
     "name": "stdout",
     "output_type": "stream",
     "text": [
      "Mounted at /content/drive\n"
     ]
    }
   ],
   "source": [
    "from google.colab import drive\n",
    "drive.mount('/content/drive')"
   ]
  },
  {
   "cell_type": "code",
   "execution_count": null,
   "metadata": {
    "id": "XT5qB-3i2GAO"
   },
   "outputs": [],
   "source": [
    "#df_pp_fasttext = pd.read_csv(filepath_or_buffer='./Dataset/dataframes/df_pp_fasttext.csv', sep=',', quoting=csv.QUOTE_NONNUMERIC)"
   ]
  },
  {
   "cell_type": "code",
   "execution_count": 3,
   "metadata": {
    "id": "LoAdwJ9D2GAP"
   },
   "outputs": [],
   "source": [
    "dataJSON  = []\n",
    "with open(\"/content/drive/MyDrive/APT/df_pp_fasttext.json\", 'r') as f:\n",
    "  dataJSON=json.load(f)\n",
    "  df_pp_fasttext = pd.DataFrame(dataJSON)"
   ]
  },
  {
   "cell_type": "code",
   "execution_count": 4,
   "metadata": {
    "colab": {
     "base_uri": "https://localhost:8080/"
    },
    "id": "4VucgVHT2GAQ",
    "outputId": "1d29c65f-4f18-42c5-f913-65498e5360a0"
   },
   "outputs": [
    {
     "name": "stdout",
     "output_type": "stream",
     "text": [
      "   id                                       query_vector  \\\n",
      "0   1  [0.012943572, 0.015888123, -0.025562584, 0.090...   \n",
      "\n",
      "                                      product_vector  median_relevance  \\\n",
      "0  [-0.0042361375, 0.008490032, 0.07483778, 0.015...                 1   \n",
      "\n",
      "   relevance_variance  \n",
      "0                 0.0  \n"
     ]
    }
   ],
   "source": [
    "print(df_pp_fasttext.head(1))"
   ]
  },
  {
   "cell_type": "code",
   "execution_count": 5,
   "metadata": {
    "id": "dvjok_GG2GAW"
   },
   "outputs": [],
   "source": [
    "#konkateniraj vektore u jedan zajednicki\n",
    "\n",
    "df_pp_fasttext[\"allVectors\"] = df_pp_fasttext[\"query_vector\"] + df_pp_fasttext[\"product_vector\"] "
   ]
  },
  {
   "cell_type": "code",
   "execution_count": 6,
   "metadata": {
    "colab": {
     "base_uri": "https://localhost:8080/"
    },
    "id": "8Gmlih5W2GAW",
    "outputId": "f129bb7c-a6a8-456a-f96a-68a6b0b92118"
   },
   "outputs": [
    {
     "name": "stdout",
     "output_type": "stream",
     "text": [
      "0    [0.012943572, 0.015888123, -0.025562584, 0.090...\n",
      "Name: allVectors, dtype: object\n"
     ]
    }
   ],
   "source": [
    "print(df_pp_fasttext[\"allVectors\"].head(1))"
   ]
  },
  {
   "cell_type": "code",
   "execution_count": 18,
   "metadata": {
    "colab": {
     "base_uri": "https://localhost:8080/"
    },
    "id": "9XYMiwqF2GAX",
    "outputId": "2d86d77d-f66d-4bfa-de1b-18e1cc77594b"
   },
   "outputs": [
    {
     "name": "stderr",
     "output_type": "stream",
     "text": [
      "/usr/local/lib/python3.7/dist-packages/ipykernel_launcher.py:1: DeprecationWarning: `np.float` is a deprecated alias for the builtin `float`. To silence this warning, use `float` by itself. Doing this will not modify any behavior and is safe. If you specifically wanted the numpy scalar type, use `np.float64` here.\n",
      "Deprecated in NumPy 1.20; for more details and guidance: https://numpy.org/devdocs/release/1.20.0-notes.html#deprecations\n",
      "  \"\"\"Entry point for launching an IPython kernel.\n"
     ]
    }
   ],
   "source": [
    "df_pp_fasttext['allVectors']=df_pp_fasttext['allVectors'].apply(lambda x : np.asarray(x,np.float))"
   ]
  },
  {
   "cell_type": "code",
   "execution_count": null,
   "metadata": {
    "id": "m9eRfi0J94f3"
   },
   "outputs": [],
   "source": [
    "#da medijani budu 0-3 kako bi neuronska mreza mogla radit s njima\n",
    "\n",
    "df_pp_fasttext[\"median_relevance\"] = df_pp_fasttext[\"median_relevance\"] - 1\n",
    "print(df_pp_fasttext[\"median_relevance\"])"
   ]
  },
  {
   "cell_type": "code",
   "execution_count": 50,
   "metadata": {
    "id": "WLwWU9rz2GAY"
   },
   "outputs": [],
   "source": [
    "X_train, X_test, y_train, y_test = train_test_split(df_pp_fasttext['allVectors'], df_pp_fasttext['median_relevance'],test_size=0.5, random_state=42, stratify=df_pp_fasttext['median_relevance']) \n",
    "\n",
    "X_test, X_val, y_test, y_val  = train_test_split(X_test, y_test, test_size=0.5, random_state=42)"
   ]
  },
  {
   "cell_type": "code",
   "execution_count": 51,
   "metadata": {
    "id": "Pb0JVUuD2GAZ"
   },
   "outputs": [],
   "source": [
    "X_tr_ind=X_train.index.to_numpy()\n",
    "X_tst_ind=X_test.index.to_numpy()\n",
    "X_val_ind=X_val.index.to_numpy()\n",
    "\n",
    "y_train = y_train.to_numpy()\n",
    "y_test = y_test.to_numpy()\n",
    "y_val = y_val.to_numpy()"
   ]
  },
  {
   "cell_type": "code",
   "execution_count": 52,
   "metadata": {
    "id": "Vsb8pjzZ2GAa"
   },
   "outputs": [],
   "source": [
    "X_test=np.vstack(X_test)\n",
    "X_train=np.vstack(X_train)\n",
    "X_val=np.vstack(X_val)"
   ]
  },
  {
   "cell_type": "code",
   "execution_count": 53,
   "metadata": {
    "id": "AzG91Ztw8swG"
   },
   "outputs": [],
   "source": [
    "from tensorflow.keras.utils import to_categorical\n",
    "\n",
    "#print(y_train)\n",
    "y_train = to_categorical(y_train, 4)\n",
    "y_test = to_categorical(y_test, 4)\n",
    "y_val = to_categorical(y_val, 4)"
   ]
  },
  {
   "cell_type": "code",
   "execution_count": 54,
   "metadata": {
    "colab": {
     "base_uri": "https://localhost:8080/"
    },
    "id": "1Bnj4rtr2GAa",
    "outputId": "0c4d2620-b04a-4040-bb6c-533718eda4a7"
   },
   "outputs": [
    {
     "data": {
      "text/plain": [
       "(5079, 600)"
      ]
     },
     "execution_count": 54,
     "metadata": {},
     "output_type": "execute_result"
    }
   ],
   "source": [
    "X_train.shape"
   ]
  },
  {
   "cell_type": "code",
   "execution_count": 55,
   "metadata": {
    "id": "QccQaBf42GAb"
   },
   "outputs": [],
   "source": [
    "import tensorflow as tf\n",
    "import tensorflow.keras as K\n",
    "from tensorflow.keras.models import load_model"
   ]
  },
  {
   "cell_type": "code",
   "execution_count": 56,
   "metadata": {
    "id": "hVxhaqMU2GAc"
   },
   "outputs": [],
   "source": [
    "network=K.Sequential([\n",
    "    K.layers.InputLayer(600),\n",
    "    K.layers.BatchNormalization(),\n",
    "    K.layers.Dropout(0.3),\n",
    "    K.layers.Dense(300,activation='relu'),\n",
    "    K.layers.BatchNormalization(),\n",
    "    K.layers.Dropout(0.3),\n",
    "    K.layers.Dense(200,activation='relu'),\n",
    "    K.layers.BatchNormalization(),\n",
    "    K.layers.Dropout(0.3),\n",
    "    K.layers.Dense(100, activation='relu'),\n",
    "    K.layers.BatchNormalization(),\n",
    "    K.layers.Dropout(0.3),\n",
    "    K.layers.Dense(4,'softmax')])"
   ]
  },
  {
   "cell_type": "code",
   "execution_count": 57,
   "metadata": {
    "id": "7HjYens72GAd"
   },
   "outputs": [],
   "source": [
    "network.compile('adam','categorical_crossentropy', metrics=['accuracy']) #tf.keras.losses.SparseCategoricalCrossentropy()"
   ]
  },
  {
   "cell_type": "code",
   "execution_count": 58,
   "metadata": {
    "colab": {
     "base_uri": "https://localhost:8080/"
    },
    "id": "unBrJukC2GAe",
    "outputId": "34d5684c-4a56-4d6d-e378-a5d049b98cf3"
   },
   "outputs": [
    {
     "name": "stdout",
     "output_type": "stream",
     "text": [
      "Epoch 1/50\n",
      "3/3 [==============================] - 36s 17s/step - loss: 2.0931 - accuracy: 0.2565 - val_loss: 1.3750 - val_accuracy: 0.4354\n",
      "Epoch 2/50\n",
      "3/3 [==============================] - 0s 118ms/step - loss: 1.8662 - accuracy: 0.2908 - val_loss: 1.3642 - val_accuracy: 0.5650\n",
      "Epoch 3/50\n",
      "3/3 [==============================] - 0s 123ms/step - loss: 1.7167 - accuracy: 0.3209 - val_loss: 1.3483 - val_accuracy: 0.5949\n",
      "Epoch 4/50\n",
      "3/3 [==============================] - 0s 122ms/step - loss: 1.6505 - accuracy: 0.3322 - val_loss: 1.3319 - val_accuracy: 0.5972\n",
      "Epoch 5/50\n",
      "3/3 [==============================] - 0s 116ms/step - loss: 1.6069 - accuracy: 0.3574 - val_loss: 1.3149 - val_accuracy: 0.6028\n",
      "Epoch 6/50\n",
      "3/3 [==============================] - 0s 121ms/step - loss: 1.5382 - accuracy: 0.3674 - val_loss: 1.2955 - val_accuracy: 0.6059\n",
      "Epoch 7/50\n",
      "3/3 [==============================] - 0s 120ms/step - loss: 1.4927 - accuracy: 0.3985 - val_loss: 1.2759 - val_accuracy: 0.6083\n",
      "Epoch 8/50\n",
      "3/3 [==============================] - 0s 120ms/step - loss: 1.4494 - accuracy: 0.4030 - val_loss: 1.2572 - val_accuracy: 0.6098\n",
      "Epoch 9/50\n",
      "3/3 [==============================] - 0s 126ms/step - loss: 1.4117 - accuracy: 0.4272 - val_loss: 1.2426 - val_accuracy: 0.6094\n",
      "Epoch 10/50\n",
      "3/3 [==============================] - 0s 115ms/step - loss: 1.4009 - accuracy: 0.4253 - val_loss: 1.2265 - val_accuracy: 0.6098\n",
      "Epoch 11/50\n",
      "3/3 [==============================] - 0s 120ms/step - loss: 1.3663 - accuracy: 0.4442 - val_loss: 1.2126 - val_accuracy: 0.6098\n",
      "Epoch 12/50\n",
      "3/3 [==============================] - 0s 128ms/step - loss: 1.3421 - accuracy: 0.4542 - val_loss: 1.2023 - val_accuracy: 0.6098\n",
      "Epoch 13/50\n",
      "3/3 [==============================] - 0s 117ms/step - loss: 1.3135 - accuracy: 0.4682 - val_loss: 1.1935 - val_accuracy: 0.6098\n",
      "Epoch 14/50\n",
      "3/3 [==============================] - 0s 118ms/step - loss: 1.2678 - accuracy: 0.4928 - val_loss: 1.1819 - val_accuracy: 0.6098\n",
      "Epoch 15/50\n",
      "3/3 [==============================] - 0s 127ms/step - loss: 1.2485 - accuracy: 0.5044 - val_loss: 1.1750 - val_accuracy: 0.6098\n",
      "Epoch 16/50\n",
      "3/3 [==============================] - 0s 119ms/step - loss: 1.2512 - accuracy: 0.5044 - val_loss: 1.1671 - val_accuracy: 0.6098\n",
      "Epoch 17/50\n",
      "3/3 [==============================] - 0s 120ms/step - loss: 1.2315 - accuracy: 0.5139 - val_loss: 1.1583 - val_accuracy: 0.6098\n",
      "Epoch 18/50\n",
      "3/3 [==============================] - 0s 118ms/step - loss: 1.1982 - accuracy: 0.5267 - val_loss: 1.1498 - val_accuracy: 0.6094\n",
      "Epoch 19/50\n",
      "3/3 [==============================] - 0s 120ms/step - loss: 1.1945 - accuracy: 0.5399 - val_loss: 1.1403 - val_accuracy: 0.6094\n",
      "Epoch 20/50\n",
      "3/3 [==============================] - 0s 121ms/step - loss: 1.1758 - accuracy: 0.5485 - val_loss: 1.1300 - val_accuracy: 0.6094\n",
      "Epoch 21/50\n",
      "3/3 [==============================] - 0s 121ms/step - loss: 1.1469 - accuracy: 0.5556 - val_loss: 1.1209 - val_accuracy: 0.6102\n",
      "Epoch 22/50\n",
      "3/3 [==============================] - 0s 118ms/step - loss: 1.1554 - accuracy: 0.5765 - val_loss: 1.1137 - val_accuracy: 0.6094\n",
      "Epoch 23/50\n",
      "3/3 [==============================] - 0s 127ms/step - loss: 1.1228 - accuracy: 0.5739 - val_loss: 1.1078 - val_accuracy: 0.6098\n",
      "Epoch 24/50\n",
      "3/3 [==============================] - 0s 119ms/step - loss: 1.1085 - accuracy: 0.5814 - val_loss: 1.1017 - val_accuracy: 0.6102\n",
      "Epoch 25/50\n",
      "3/3 [==============================] - 0s 122ms/step - loss: 1.1079 - accuracy: 0.5822 - val_loss: 1.0953 - val_accuracy: 0.6102\n",
      "Epoch 26/50\n",
      "3/3 [==============================] - 0s 127ms/step - loss: 1.0971 - accuracy: 0.5938 - val_loss: 1.0899 - val_accuracy: 0.6102\n",
      "Epoch 27/50\n",
      "3/3 [==============================] - 0s 117ms/step - loss: 1.0845 - accuracy: 0.5985 - val_loss: 1.0861 - val_accuracy: 0.6102\n",
      "Epoch 28/50\n",
      "3/3 [==============================] - 0s 120ms/step - loss: 1.0888 - accuracy: 0.5976 - val_loss: 1.0826 - val_accuracy: 0.6102\n",
      "Epoch 29/50\n",
      "3/3 [==============================] - 0s 123ms/step - loss: 1.0568 - accuracy: 0.6039 - val_loss: 1.0802 - val_accuracy: 0.6102\n",
      "Epoch 30/50\n",
      "3/3 [==============================] - 0s 120ms/step - loss: 1.0489 - accuracy: 0.6084 - val_loss: 1.0778 - val_accuracy: 0.6102\n",
      "Epoch 31/50\n",
      "3/3 [==============================] - 0s 124ms/step - loss: 1.0502 - accuracy: 0.6096 - val_loss: 1.0754 - val_accuracy: 0.6102\n",
      "Epoch 32/50\n",
      "3/3 [==============================] - 0s 119ms/step - loss: 1.0427 - accuracy: 0.6131 - val_loss: 1.0725 - val_accuracy: 0.6102\n",
      "Epoch 33/50\n",
      "3/3 [==============================] - 0s 121ms/step - loss: 1.0418 - accuracy: 0.6163 - val_loss: 1.0701 - val_accuracy: 0.6102\n",
      "Epoch 34/50\n",
      "3/3 [==============================] - 0s 121ms/step - loss: 1.0199 - accuracy: 0.6208 - val_loss: 1.0679 - val_accuracy: 0.6102\n",
      "Epoch 35/50\n",
      "3/3 [==============================] - 0s 120ms/step - loss: 1.0169 - accuracy: 0.6298 - val_loss: 1.0659 - val_accuracy: 0.6102\n",
      "Epoch 36/50\n",
      "3/3 [==============================] - 0s 121ms/step - loss: 1.0111 - accuracy: 0.6235 - val_loss: 1.0641 - val_accuracy: 0.6102\n",
      "Epoch 37/50\n",
      "3/3 [==============================] - 0s 124ms/step - loss: 1.0139 - accuracy: 0.6230 - val_loss: 1.0629 - val_accuracy: 0.6102\n",
      "Epoch 38/50\n",
      "3/3 [==============================] - 0s 119ms/step - loss: 0.9845 - accuracy: 0.6358 - val_loss: 1.0622 - val_accuracy: 0.6102\n",
      "Epoch 39/50\n",
      "3/3 [==============================] - 0s 122ms/step - loss: 0.9998 - accuracy: 0.6239 - val_loss: 1.0625 - val_accuracy: 0.6102\n",
      "Epoch 40/50\n",
      "3/3 [==============================] - 0s 127ms/step - loss: 0.9804 - accuracy: 0.6356 - val_loss: 1.0633 - val_accuracy: 0.6102\n",
      "Epoch 41/50\n",
      "3/3 [==============================] - 0s 121ms/step - loss: 0.9699 - accuracy: 0.6342 - val_loss: 1.0630 - val_accuracy: 0.6102\n",
      "Epoch 42/50\n",
      "3/3 [==============================] - 0s 123ms/step - loss: 0.9620 - accuracy: 0.6383 - val_loss: 1.0612 - val_accuracy: 0.6102\n",
      "Epoch 43/50\n",
      "3/3 [==============================] - 0s 124ms/step - loss: 0.9624 - accuracy: 0.6401 - val_loss: 1.0595 - val_accuracy: 0.6102\n",
      "Epoch 44/50\n",
      "3/3 [==============================] - 0s 124ms/step - loss: 0.9657 - accuracy: 0.6484 - val_loss: 1.0585 - val_accuracy: 0.6102\n",
      "Epoch 45/50\n",
      "3/3 [==============================] - 0s 118ms/step - loss: 0.9608 - accuracy: 0.6375 - val_loss: 1.0579 - val_accuracy: 0.6102\n",
      "Epoch 46/50\n",
      "3/3 [==============================] - 0s 120ms/step - loss: 0.9449 - accuracy: 0.6484 - val_loss: 1.0588 - val_accuracy: 0.6102\n",
      "Epoch 47/50\n",
      "3/3 [==============================] - 0s 124ms/step - loss: 0.9435 - accuracy: 0.6464 - val_loss: 1.0580 - val_accuracy: 0.6102\n",
      "Epoch 48/50\n",
      "3/3 [==============================] - 0s 117ms/step - loss: 0.9435 - accuracy: 0.6484 - val_loss: 1.0568 - val_accuracy: 0.6102\n",
      "Epoch 49/50\n",
      "3/3 [==============================] - 0s 126ms/step - loss: 0.9483 - accuracy: 0.6464 - val_loss: 1.0547 - val_accuracy: 0.6102\n",
      "Epoch 50/50\n",
      "3/3 [==============================] - 0s 116ms/step - loss: 0.9430 - accuracy: 0.6531 - val_loss: 1.0522 - val_accuracy: 0.6102\n"
     ]
    },
    {
     "data": {
      "text/plain": [
       "<keras.callbacks.History at 0x7f72db1ff410>"
      ]
     },
     "execution_count": 58,
     "metadata": {},
     "output_type": "execute_result"
    }
   ],
   "source": [
    "network.fit(X_train,y_train,epochs=50,batch_size=2048, validation_data=(X_val,y_val))"
   ]
  },
  {
   "cell_type": "code",
   "execution_count": 59,
   "metadata": {
    "colab": {
     "base_uri": "https://localhost:8080/"
    },
    "id": "aEov_RKs2GAf",
    "outputId": "976d04dd-3e5a-4db2-b453-610ad95c5c6d"
   },
   "outputs": [
    {
     "name": "stdout",
     "output_type": "stream",
     "text": [
      "80/80 [==============================] - 0s 2ms/step - loss: 1.0573 - accuracy: 0.6065\n"
     ]
    },
    {
     "data": {
      "text/plain": [
       "[1.0572984218597412, 0.6065379977226257]"
      ]
     },
     "execution_count": 59,
     "metadata": {},
     "output_type": "execute_result"
    }
   ],
   "source": [
    "network.evaluate(X_test,y_test)"
   ]
  }
 ],
 "metadata": {
  "colab": {
   "name": "model.ipynb",
   "provenance": []
  },
  "interpreter": {
   "hash": "f2bf11d8767c50a74e7ca8cca20ade7bf72bdfe435dc3a1ec7a8fe848b18ee20"
  },
  "kernelspec": {
   "display_name": "Python 3",
   "language": "python",
   "name": "python3"
  },
  "language_info": {
   "codemirror_mode": {
    "name": "ipython",
    "version": 3
   },
   "file_extension": ".py",
   "mimetype": "text/x-python",
   "name": "python",
   "nbconvert_exporter": "python",
   "pygments_lexer": "ipython3",
   "version": "3.8.8"
  }
 },
 "nbformat": 4,
 "nbformat_minor": 1
}
