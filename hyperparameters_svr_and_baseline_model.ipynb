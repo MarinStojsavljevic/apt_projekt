{
  "nbformat": 4,
  "nbformat_minor": 0,
  "metadata": {
    "colab": {
      "name": "hyperparameters svr and baseline model.ipynb",
      "provenance": []
    },
    "kernelspec": {
      "name": "python3",
      "display_name": "Python 3"
    },
    "language_info": {
      "name": "python"
    }
  },
  "cells": [
    {
      "cell_type": "code",
      "execution_count": 2,
      "metadata": {
        "colab": {
          "base_uri": "https://localhost:8080/"
        },
        "id": "qsCfUobWfKuT",
        "outputId": "f971c29b-737d-4e49-f8d2-f38a956070e9"
      },
      "outputs": [
        {
          "output_type": "stream",
          "name": "stdout",
          "text": [
            "Mounted at /content/drive\n"
          ]
        }
      ],
      "source": [
        "from google.colab import drive\n",
        "drive.mount('/content/drive')\n",
        "\n",
        "import pandas as pd\n",
        "import json\n",
        "import numpy as np\n",
        "from sklearn.svm import SVC\n",
        "from sklearn.model_selection import train_test_split\n",
        "from sklearn.metrics import confusion_matrix\n",
        "from sklearn.svm import SVR\n",
        "from sklearn.metrics import mean_absolute_error as MAE\n",
        "from sklearn.metrics import mean_squared_error as MSE"
      ]
    },
    {
      "cell_type": "code",
      "source": [
        "def accuracy(real, pred):\n",
        "  pred=[round(x) for x in pred]\n",
        "  pred=[1 if x<1 else x for x in pred]\n",
        "  pred=[4 if x>4 else x for x in pred]\n",
        "  s=np.sum(pred == real)\n",
        "  return s/len(pred)"
      ],
      "metadata": {
        "id": "HZ9vB_Q4SA5_"
      },
      "execution_count": 10,
      "outputs": []
    },
    {
      "cell_type": "code",
      "source": [
        "data  = []\n",
        "with open(\"/content/drive/MyDrive/Colab Notebooks/apt/word2vec_without_numbers.json\", 'r') as f:\n",
        "    data=json.load(f)\n",
        "    without_numbers = pd.DataFrame(data)\n",
        "\n",
        "print(without_numbers.head(1))\n",
        "\n",
        "query = np.array([np.array(list(np.float_(x))) for x in without_numbers['query_vector']])\n",
        "product = np.array([np.array(list(np.float_(x))) for x in without_numbers['product_vector']])\n",
        "label = np.array(without_numbers['median_relevance'])\n",
        "\n",
        "train = query * product\n",
        "\n",
        "X_train, X_test, y_train, y_test = train_test_split(train, label, test_size=0.4, random_state=42)\n",
        "for gamma in range(1, 11, 1):\n",
        "  model = SVR(kernel = 'rbf', gamma=(gamma/10)).fit(X_train, y_train)\n",
        "  prediction = model.predict(X_test)\n",
        "  print(MAE(y_test, prediction), MSE(y_test, prediction))\n",
        "  print(accuracy(y_test, prediction))"
      ],
      "metadata": {
        "colab": {
          "base_uri": "https://localhost:8080/"
        },
        "id": "9RHblw_dl7Fg",
        "outputId": "728a7c3a-51ed-46ce-f5bb-ca4f60549d2d"
      },
      "execution_count": 13,
      "outputs": [
        {
          "output_type": "stream",
          "name": "stdout",
          "text": [
            "   id                                       query_vector  \\\n",
            "0   1  [-0.067871094, 0.122558594, -0.17480469, 0.086...   \n",
            "\n",
            "                                      product_vector  median_relevance  \\\n",
            "0  [0.010758463, 0.015542602, 0.008837891, 0.0595...                 1   \n",
            "\n",
            "   relevance_variance  \n",
            "0                 0.0  \n",
            "0.7000846154415371 1.2444476150777688\n",
            "0.6107283464566929\n",
            "0.6937048207265157 1.1884560149111976\n",
            "0.6107283464566929\n",
            "0.6900960159125926 1.1464668739571608\n",
            "0.6134350393700787\n",
            "0.6872757157376106 1.1129413361670117\n",
            "0.6124507874015748\n",
            "0.6849456168239493 1.0875612146554623\n",
            "0.609744094488189\n",
            "0.6828607951707635 1.0691590092175876\n",
            "0.6077755905511811\n",
            "0.681105335247451 1.0526229151636226\n",
            "0.6053149606299213\n",
            "0.6795273407034371 1.037443519006214\n",
            "0.6026082677165354\n",
            "0.6779347591874704 1.0230995393527407\n",
            "0.6021161417322834\n",
            "0.6764484313796912 1.0109192758598602\n",
            "0.6013779527559056\n"
          ]
        }
      ]
    },
    {
      "cell_type": "code",
      "source": [
        "from sklearn.dummy import DummyRegressor\n",
        "\n",
        "dummy_regr = DummyRegressor(strategy=\"median\")\n",
        "dummy_regr.fit(X_train, y_train)\n",
        "pred=dummy_regr.predict(X_test)\n",
        "print(MAE(y_test, pred), MSE(y_test, pred))\n",
        "print(accuracy(y_test, prediction))"
      ],
      "metadata": {
        "colab": {
          "base_uri": "https://localhost:8080/"
        },
        "id": "bN1HFhwvP28A",
        "outputId": "d76e78ff-a261-44d7-cb4a-a4e25aef4d9d"
      },
      "execution_count": 17,
      "outputs": [
        {
          "output_type": "stream",
          "name": "stdout",
          "text": [
            "0.6865157480314961 1.437007874015748\n",
            "0.6013779527559056\n"
          ]
        }
      ]
    }
  ]
}